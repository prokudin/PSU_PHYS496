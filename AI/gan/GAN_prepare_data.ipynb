{
 "cells": [
  {
   "cell_type": "code",
   "execution_count": 1,
   "metadata": {
    "id": "ygJMIQAqxtUs"
   },
   "outputs": [],
   "source": [
    "import os,sys\n",
    "sys.path.append('/w/jam-sciwork24/prokudin/jam3d_dev_lib')\n",
    "sys.path.append('/w/jam-sciwork24/prokudin/jam3dlib')\n",
    "os.environ[\"JAM3D\"] = \"/w/jam-sciwork24/prokudin/jam3d_dev_lib\"\n",
    "from tools.tools     import checkdir,save,load,lprint\n",
    "import tools.config\n",
    "from tools.config    import load_config, conf\n",
    "import numpy as np\n",
    "from tmd import TMD\n",
    "import matplotlib as plt\n",
    "import pylab as py\n",
    "import pandas as pd"
   ]
  },
  {
   "cell_type": "code",
   "execution_count": 4,
   "metadata": {
    "colab": {
     "base_uri": "https://localhost:8080/"
    },
    "id": "F1mp3DxHyWKh",
    "outputId": "d754fbcc-bff9-44ac-aefa-0d1cd33c3438"
   },
   "outputs": [
    {
     "name": "stdout",
     "output_type": "stream",
     "text": [
      "/w/jam-sciwork24/prokudin/jam3dlib\n"
     ]
    }
   ],
   "source": [
    "cd '/w/jam-sciwork24/prokudin/jam3dlib'"
   ]
  },
  {
   "cell_type": "code",
   "execution_count": 15,
   "metadata": {},
   "outputs": [],
   "source": [
    "mypath = '/w/jam-sciwork24/prokudin/PSU_PHYS496/AI/gan'"
   ]
  },
  {
   "cell_type": "code",
   "execution_count": 5,
   "metadata": {
    "colab": {
     "base_uri": "https://localhost:8080/"
    },
    "id": "ZHxtA63_ybzp",
    "outputId": "e3eac74b-3e4a-4010-bbfd-5b12a89223a4"
   },
   "outputs": [
    {
     "name": "stdout",
     "output_type": "stream",
     "text": [
      "parman: pdf\n",
      "order: [1, 'pdf', 'widths1_uv']\n",
      "order: [1, 'pdf', 'widths1_sea']\n",
      "parman: pdfpi-\n",
      "parman: ffpi\n",
      "order: [1, 'ffpi', 'widths1_fav']\n",
      "order: [1, 'ffpi', 'widths1_ufav']\n",
      "parman: ffk\n",
      "order: [1, 'ffk', 'widths1_fav']\n",
      "order: [1, 'ffk', 'widths1_ufav']\n",
      "parman: ffh\n",
      "parman: transversity\n",
      "order: [1, 'transversity', 'widths1_uv']\n",
      "order: [1, 'transversity', 'u N0 1']\n",
      "order: [1, 'transversity', 'u N1 1']\n",
      "order: [1, 'transversity', 'u a0 1']\n",
      "order: [1, 'transversity', 'u b0 1']\n",
      "order: [1, 'transversity', 'u b1 1']\n",
      "order: [1, 'transversity', 'd N0 1']\n",
      "order: [1, 'transversity', 'd N1 1']\n",
      "order: [1, 'transversity', 'd a0 1']\n",
      "parman: collinspi\n",
      "order: [1, 'collinspi', 'widths1_fav']\n",
      "order: [1, 'collinspi', 'widths1_ufav']\n",
      "order: [1, 'collinspi', 'u N0 1']\n",
      "order: [1, 'collinspi', 'u N1 1']\n",
      "order: [1, 'collinspi', 'u a0 1']\n",
      "order: [1, 'collinspi', 'u a1 1']\n",
      "order: [1, 'collinspi', 'u b0 1']\n",
      "order: [1, 'collinspi', 'u b1 1']\n",
      "order: [1, 'collinspi', 'u b0 2']\n",
      "order: [1, 'collinspi', 'u b1 2']\n",
      "order: [1, 'collinspi', 'd N0 1']\n",
      "order: [1, 'collinspi', 'd N1 1']\n",
      "order: [1, 'collinspi', 'd a0 1']\n",
      "order: [1, 'collinspi', 'd a1 1']\n",
      "order: [1, 'collinspi', 'd b0 1']\n",
      "order: [1, 'collinspi', 'd b1 1']\n",
      "order: [1, 'collinspi', 'd b0 2']\n",
      "order: [1, 'collinspi', 'd b1 2']\n",
      "parman: Htildepi\n",
      "order: [1, 'Htildepi', 'u N0 1']\n",
      "order: [1, 'Htildepi', 'u N1 1']\n",
      "order: [1, 'Htildepi', 'u a0 1']\n",
      "order: [1, 'Htildepi', 'u a1 1']\n",
      "order: [1, 'Htildepi', 'u b0 1']\n",
      "order: [1, 'Htildepi', 'u b1 1']\n",
      "order: [1, 'Htildepi', 'd N0 1']\n",
      "order: [1, 'Htildepi', 'd N1 1']\n",
      "parman: sivers\n",
      "order: [1, 'sivers', 'widths1_uv']\n",
      "order: [1, 'sivers', 'u N0 1']\n",
      "order: [1, 'sivers', 'u N1 1']\n",
      "order: [1, 'sivers', 'u a0 1']\n",
      "order: [1, 'sivers', 'u b0 1']\n",
      "order: [1, 'sivers', 'u b1 1']\n",
      "order: [1, 'sivers', 'd N0 1']\n",
      "order: [1, 'sivers', 'd N1 1']\n",
      "order: [1, 'sivers', 'd a0 1']\n"
     ]
    }
   ],
   "source": [
    "tag='JAM3D_2022' #tag for a given analysis (see \"List of Fits\")\n",
    "tmd=TMD(tag)"
   ]
  },
  {
   "cell_type": "code",
   "execution_count": 6,
   "metadata": {
    "id": "jku2fe9BygqL"
   },
   "outputs": [],
   "source": [
    "M = 0.93891897\n",
    "Mpi = 0.135"
   ]
  },
  {
   "cell_type": "code",
   "execution_count": 7,
   "metadata": {
    "colab": {
     "base_uri": "https://localhost:8080/"
    },
    "id": "DeA1gLcmyk3P",
    "outputId": "da3926de-2962-4623-f1ea-18ef2ddda5d7"
   },
   "outputs": [
    {
     "name": "stdout",
     "output_type": "stream",
     "text": [
      "[7.84175357e+00 3.64503757e+00 5.69564180e-01 2.52804796e+00\n",
      " 7.06690597e-01 3.31212163e-01 3.31212163e-01 1.26601743e-01\n",
      " 1.26601743e-01 1.61433295e-04 1.61433295e-04]\n",
      "[ 0.         -0.54450382  0.          0.87315847  0.          0.\n",
      "  0.          0.          0.          0.          0.        ]\n",
      "[ 0.         -0.21872618  0.          0.35074615  0.          0.\n",
      "  0.          0.          0.          0.          0.        ]\n"
     ]
    }
   ],
   "source": [
    "#icol=False will give the full TMD while icol=True will return only the collinear part: see Eqs. (3)-(7) of arXiv:2002.08384\n",
    "#The 5th argument in tmd.eval is the hadron (p: proton, pi: pion)\n",
    "#The 6th argument in tmd.eval is the replica index (0 is chosen in this case). You can get the number of replicas via tmd.nrep.\n",
    "#11 partons: 0=g,1=u,2=ub,3=d,4=db,5=s,6=sb,7=c,8=cb,9=b,10=bb\n",
    "\n",
    "x=0.1\n",
    "Q2=10.0\n",
    "kT=0.1\n",
    "print(tmd.eval(x,Q2,kT,'p','pdf',0,icol=False))\n",
    "print(tmd.eval(x,Q2,kT,'p','sivers',0,icol=False))\n",
    "print(tmd.eval(x,Q2,kT,'p','sivers',0,icol=True))"
   ]
  },
  {
   "cell_type": "code",
   "execution_count": 8,
   "metadata": {
    "colab": {
     "base_uri": "https://localhost:8080/"
    },
    "id": "mjnf0_BUyrX8",
    "outputId": "3efcc09c-6a54-49c5-8780-9c7c7a2561d7"
   },
   "outputs": [
    {
     "data": {
      "text/plain": [
       "465"
      ]
     },
     "execution_count": 8,
     "metadata": {},
     "output_type": "execute_result"
    }
   ],
   "source": [
    "tmd.nrep"
   ]
  },
  {
   "cell_type": "code",
   "execution_count": 10,
   "metadata": {
    "colab": {
     "base_uri": "https://localhost:8080/"
    },
    "id": "mKdWzJ4zysgd",
    "outputId": "e1c75692-8924-4807-dfb3-6936aaf2cfdd"
   },
   "outputs": [
    {
     "name": "stdout",
     "output_type": "stream",
     "text": [
      "3.6289312352484524\n"
     ]
    }
   ],
   "source": [
    "x=0.1\n",
    "Q2=10.0\n",
    "kT=0.1\n",
    "irep = 0 # this one can be varied in order to create multiple images\n",
    "def plot_function_u(irep,x,Q2,kTx,kTy):\n",
    "    kT = np.sqrt(kTx**2 + kTy**2)\n",
    "    return tmd.eval(x,Q2,kT,'p','pdf',irep,icol=False)[1] - kTx/M * tmd.eval(x,Q2,kT,'p','sivers',irep,icol=False)[1]\n",
    "kTx,kTy = 0.1,0.1\n",
    "print(plot_function_u(irep,x,Q2,kTx,kTy))"
   ]
  },
  {
   "cell_type": "code",
   "execution_count": 11,
   "metadata": {
    "colab": {
     "base_uri": "https://localhost:8080/",
     "height": 435
    },
    "id": "9fwKkLvyywTt",
    "outputId": "ebc66681-d2db-45a6-fe95-18046d63ac4d"
   },
   "outputs": [
    {
     "data": {
      "image/png": "[encoded data removed]",
      "text/plain": [
       "<Figure size 432x288 with 1 Axes>"
      ]
     },
     "metadata": {
      "needs_background": "light"
     },
     "output_type": "display_data"
    }
   ],
   "source": [
    "import matplotlib.pyplot as plt\n",
    "import numpy as np\n",
    "\n",
    "from matplotlib.colors import Normalize\n",
    "import matplotlib.cm as cm\n",
    "\n",
    "kTx = np.linspace(-1,1,15)\n",
    "kTy = np.linspace(-1,1,15)\n",
    "X, Y = np.meshgrid(kTx, kTy)\n",
    "\n",
    "Z=[]\n",
    "x = 0.1\n",
    "Q2 = 10\n",
    "\n",
    "irep = 0 # this can be changed to produce replicas of images, can be from 0 to 465\n",
    "for kx in kTx:\n",
    "    Z1 = []\n",
    "    for ky in kTy:\n",
    "        Z1.append(plot_function_u(irep,x,Q2,kx,ky))\n",
    "    Z.append(Z1)\n",
    "fig, ax = plt.subplots()\n",
    "im = ax.imshow(Z, interpolation='bilinear', origin='lower',\n",
    "               cmap=cm.plasma, extent=(-1, 1, -1, 1))\n",
    "CS = ax.contour(X, Y, Z)\n"
   ]
  },
  {
   "cell_type": "code",
   "execution_count": 16,
   "metadata": {
    "colab": {
     "base_uri": "https://localhost:8080/"
    },
    "id": "xG9OIbkQFxik",
    "outputId": "775307fc-2428-489d-9d26-5a2954d72d87"
   },
   "outputs": [
    {
     "name": "stdout",
     "output_type": "stream",
     "text": [
      "progress: 464/465All images have been generated and saved.\n"
     ]
    }
   ],
   "source": [
    "import matplotlib.pyplot as plt\n",
    "import numpy as np\n",
    "import os\n",
    "\n",
    "# Initialize variables\n",
    "kTx = np.linspace(-1, 1, 15)\n",
    "kTy = np.linspace(-1, 1, 15)\n",
    "x = 0.1\n",
    "Q2 = 10\n",
    "num_replicas = 465  # Total replicas\n",
    "\n",
    "# Create a directory for images\n",
    "os.makedirs(mypath+'/images', exist_ok=True)\n",
    "\n",
    "# Generate and save images\n",
    "for irep in range(num_replicas):\n",
    "    X, Y = np.meshgrid(kTx, kTy)\n",
    "    Z = []\n",
    "\n",
    "    lprint('progress: %s/%s'%(irep,num_replicas)) # monitor the progress\n",
    "\n",
    "    for kx in kTx:\n",
    "        Z1 = []\n",
    "        for ky in kTy:\n",
    "            Z1.append(plot_function_u(irep, x, Q2, kx, ky))\n",
    "        Z.append(Z1)\n",
    "\n",
    "    # Create the image\n",
    "    fig, ax = plt.subplots()\n",
    "    im = ax.imshow(Z, interpolation='bilinear', origin='lower', cmap='plasma', extent=(-1, 1, -1, 1))\n",
    "    ax.contour(X, Y, Z)\n",
    "    plt.axis('off')  # Hide the axes\n",
    "\n",
    "    # Save the figure\n",
    "    plt.savefig(mypath+f'/images/Z_matrix_replica_{irep}.jpeg', format='jpeg', bbox_inches='tight', pad_inches=0)\n",
    "    plt.close(fig)  # Close the figure to free up memory\n",
    "\n",
    "print(\"All images have been generated and saved.\")"
   ]
  },
  {
   "cell_type": "code",
   "execution_count": 18,
   "metadata": {
    "colab": {
     "base_uri": "https://localhost:8080/"
    },
    "id": "znmR2iJvJcOL",
    "outputId": "30a84928-5eb9-46d8-cc46-2ac48c367cc3"
   },
   "outputs": [
    {
     "name": "stdout",
     "output_type": "stream",
     "text": [
      "JPEG files have been successfully zipped.\n"
     ]
    }
   ],
   "source": [
    "import zipfile\n",
    "\n",
    "# Create a zip file for all the images\n",
    "zip_path = mypath+'/images_replicas.zip'\n",
    "with zipfile.ZipFile(zip_path, 'w') as zipf:\n",
    "    for foldername, subfolders, filenames in os.walk('images'):\n",
    "        for filename in filenames:\n",
    "            file_path = os.path.join(foldername, filename)  # Complete path to file\n",
    "            zipf.write(file_path, os.path.relpath(os.path.join(foldername, filename), 'images'))\n",
    "\n",
    "print(\"JPEG files have been successfully zipped.\")\n"
   ]
  },
  {
   "cell_type": "code",
   "execution_count": 20,
   "metadata": {
    "colab": {
     "base_uri": "https://localhost:8080/"
    },
    "id": "h1CiYRzHziWq",
    "outputId": "92d2e4c3-9bf3-4daf-b626-b55d439058f8"
   },
   "outputs": [
    {
     "name": "stdout",
     "output_type": "stream",
     "text": [
      "Files have been successfully zipped.\n"
     ]
    }
   ],
   "source": [
    "import numpy as np\n",
    "import os\n",
    "import zipfile\n",
    "\n",
    "# Define parameters\n",
    "num_replicas = 466  # Adjust this as needed, up to 465\n",
    "kTx = np.linspace(-1, 1, 15)\n",
    "kTy = np.linspace(-1, 1, 15)\n",
    "x = 0.1\n",
    "Q2 = 10\n",
    "\n",
    "# Temporary folder for storing files\n",
    "os.makedirs(mypath+'/temp_data', exist_ok=True)\n",
    "\n",
    "# Generate and save Z matrices for each replica\n",
    "for irep in range(num_replicas):\n",
    "    Z = []\n",
    "    for kx in kTx:\n",
    "        Z1 = []\n",
    "        for ky in kTy:\n",
    "            Z1.append(np.sin(kx) * np.cos(ky))  # Example function for demonstration\n",
    "        Z.append(Z1)\n",
    "\n",
    "    # Save the matrix to a file in the temporary directory\n",
    "    np.save(mypath+f'/temp_data/Z_matrix_replica_{irep}.npy', Z)\n",
    "\n",
    "# Zip all files\n",
    "zip_path = mypath+'data_replicas.zip'\n",
    "with zipfile.ZipFile(zip_path, 'w') as zipf:\n",
    "    # Loop over the files in the directory\n",
    "    for foldername, subfolders, filenames in os.walk('temp_data'):\n",
    "        for filename in filenames:\n",
    "            # Create a complete filepath of file in directory\n",
    "            file_path = os.path.join(foldername, filename)\n",
    "            # Add file to zip\n",
    "            zipf.write(file_path, os.path.relpath(os.path.join(foldername, filename), mypath+'/temp_data'))\n",
    "\n",
    "print(\"Files have been successfully zipped.\")\n",
    "\n",
    "\n"
   ]
  },
  {
   "cell_type": "code",
   "execution_count": null,
   "metadata": {
    "id": "83MEF4wCyn80"
   },
   "outputs": [],
   "source": []
  }
 ],
 "metadata": {
  "colab": {
   "provenance": []
  },
  "kernelspec": {
   "display_name": "Python 3",
   "language": "python",
   "name": "python3"
  },
  "language_info": {
   "codemirror_mode": {
    "name": "ipython",
    "version": 3
   },
   "file_extension": ".py",
   "mimetype": "text/x-python",
   "name": "python",
   "nbconvert_exporter": "python",
   "pygments_lexer": "ipython3",
   "version": "3.8.6"
  }
 },
 "nbformat": 4,
 "nbformat_minor": 4
}
