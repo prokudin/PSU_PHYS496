{
 "cells": [
  {
   "cell_type": "raw",
   "metadata": {},
   "source": [
    "import os,sys\n",
    "#os.chdir('../')\n",
    "import numpy as np\n",
    "from tmd import TMD\n",
    "import pylab as py\n",
    "import pandas as pd\n",
    "from matplotlib import cm\n",
    "from scipy.interpolate import interp1d\n",
    "from scipy.interpolate import griddata\n",
    "from scipy import ndimage\n",
    "import matplotlib\n",
    "from matplotlib import pyplot\n",
    "matplotlib.rcParams['text.latex.preamble']=[r\"\\usepackage{amsmath}\"]\n",
    "matplotlib.rc('text',usetex=True)"
   ]
  },
  {
   "cell_type": "code",
   "execution_count": 1,
   "metadata": {},
   "outputs": [],
   "source": [
    "import os,sys\n",
    "sys.path.append('/w/jam-sciwork24/prokudin/jam3d_dev_lib')\n",
    "sys.path.append('/w/jam-sciwork24/prokudin/jam3dlib')\n",
    "os.environ[\"JAM3D\"] = \"/w/jam-sciwork24/prokudin/jam3d_dev_lib\"\n",
    "from tools.tools     import checkdir,save,load,lprint\n",
    "import tools.config\n",
    "from tools.config    import load_config, conf\n",
    "import numpy as np\n",
    "from tmd import TMD\n",
    "import matplotlib as plt\n",
    "import pylab as py\n",
    "import pandas as pd"
   ]
  },
  {
   "cell_type": "code",
   "execution_count": 2,
   "metadata": {},
   "outputs": [
    {
     "name": "stdout",
     "output_type": "stream",
     "text": [
      "/w/jam-sciwork24/prokudin/jam3dlib\n"
     ]
    }
   ],
   "source": [
    "cd '/w/jam-sciwork24/prokudin/jam3dlib'"
   ]
  },
  {
   "cell_type": "markdown",
   "metadata": {},
   "source": [
    "## Load the TMD class"
   ]
  },
  {
   "cell_type": "code",
   "execution_count": 3,
   "metadata": {},
   "outputs": [
    {
     "name": "stdout",
     "output_type": "stream",
     "text": [
      "parman: pdf\n",
      "order: [1, 'pdf', 'widths1_uv']\n",
      "order: [1, 'pdf', 'widths1_sea']\n",
      "parman: pdfpi-\n",
      "parman: ffpi\n",
      "order: [1, 'ffpi', 'widths1_fav']\n",
      "order: [1, 'ffpi', 'widths1_ufav']\n",
      "parman: ffk\n",
      "order: [1, 'ffk', 'widths1_fav']\n",
      "order: [1, 'ffk', 'widths1_ufav']\n",
      "parman: ffh\n",
      "parman: transversity\n",
      "order: [1, 'transversity', 'widths1_uv']\n",
      "order: [1, 'transversity', 'u N0 1']\n",
      "order: [1, 'transversity', 'u N1 1']\n",
      "order: [1, 'transversity', 'u a0 1']\n",
      "order: [1, 'transversity', 'u b0 1']\n",
      "order: [1, 'transversity', 'u b1 1']\n",
      "order: [1, 'transversity', 'd N0 1']\n",
      "order: [1, 'transversity', 'd N1 1']\n",
      "order: [1, 'transversity', 'd a0 1']\n",
      "parman: collinspi\n",
      "order: [1, 'collinspi', 'widths1_fav']\n",
      "order: [1, 'collinspi', 'widths1_ufav']\n",
      "order: [1, 'collinspi', 'u N0 1']\n",
      "order: [1, 'collinspi', 'u N1 1']\n",
      "order: [1, 'collinspi', 'u a0 1']\n",
      "order: [1, 'collinspi', 'u a1 1']\n",
      "order: [1, 'collinspi', 'u b0 1']\n",
      "order: [1, 'collinspi', 'u b1 1']\n",
      "order: [1, 'collinspi', 'u b0 2']\n",
      "order: [1, 'collinspi', 'u b1 2']\n",
      "order: [1, 'collinspi', 'd N0 1']\n",
      "order: [1, 'collinspi', 'd N1 1']\n",
      "order: [1, 'collinspi', 'd a0 1']\n",
      "order: [1, 'collinspi', 'd a1 1']\n",
      "order: [1, 'collinspi', 'd b0 1']\n",
      "order: [1, 'collinspi', 'd b1 1']\n",
      "order: [1, 'collinspi', 'd b0 2']\n",
      "order: [1, 'collinspi', 'd b1 2']\n",
      "parman: Htildepi\n",
      "parman: sivers\n",
      "order: [1, 'sivers', 'widths1_uv']\n",
      "order: [1, 'sivers', 'u N0 1']\n",
      "order: [1, 'sivers', 'u N1 1']\n",
      "order: [1, 'sivers', 'u a0 1']\n",
      "order: [1, 'sivers', 'u b0 1']\n",
      "order: [1, 'sivers', 'u b1 1']\n",
      "order: [1, 'sivers', 'd N0 1']\n",
      "order: [1, 'sivers', 'd N1 1']\n",
      "order: [1, 'sivers', 'd a0 1']\n"
     ]
    }
   ],
   "source": [
    "tag='JAM3D_2020' \n",
    "tmd=TMD(tag)"
   ]
  },
  {
   "cell_type": "markdown",
   "metadata": {},
   "source": [
    "JAM3D_2020 is a tag for a given analysis. See the table in the readme file."
   ]
  },
  {
   "cell_type": "code",
   "execution_count": 4,
   "metadata": {},
   "outputs": [],
   "source": [
    "M = 0.93891897\n",
    "Mpi = 0.135"
   ]
  },
  {
   "cell_type": "markdown",
   "metadata": {},
   "source": [
    "## Sivers (TMD)"
   ]
  },
  {
   "cell_type": "markdown",
   "metadata": {},
   "source": [
    "Generate the data"
   ]
  },
  {
   "cell_type": "code",
   "execution_count": null,
   "metadata": {},
   "outputs": [],
   "source": [
    "n=1 #take a subset of 50 replicas\n",
    "KT=np.linspace(-0.99,0.99,250)\n",
    "Q2=4.0\n",
    "x=0.1\n",
    "def rho_up(kTx,kTy):\n",
    "    kT=np.sqrt(kTx**2+kTy**2)\n",
    "    tmd_up_avg=np.mean([(tmd.eval(x,Q2,kT,'p','pdf',irep,icol=False)[1]\\\n",
    "                        -(kTx/M)*tmd.eval(x,Q2,kT,'p','sivers',irep,icol=False)[1]) for irep in range(n)],axis=0)\n",
    "    return tmd_up_avg\n",
    "rho_up_grid=[[rho_up(kTx,kTy) for kTx in KT] for kTy in KT]\n",
    "\n",
    "def rho_down(kTx,kTy):\n",
    "    kT=np.sqrt(kTx**2+kTy**2)\n",
    "    tmd_down_avg=np.mean([(tmd.eval(x,Q2,kT,'p','pdf',irep,icol=False)[3]\\\n",
    "                        -(kTx/M)*tmd.eval(x,Q2,kT,'p','sivers',irep,icol=False)[3]) for irep in range(n)],axis=0)\n",
    "    return tmd_down_avg\n",
    "rho_down_grid=[[rho_down(kTx,kTy) for kTx in KT] for kTy in KT]"
   ]
  },
  {
   "cell_type": "code",
   "execution_count": null,
   "metadata": {},
   "outputs": [],
   "source": [
    "nrows,ncols=1,2\n",
    "fig = py.figure(figsize=(ncols*7,nrows*6))\n",
    "\n",
    "KTX, KTY = np.meshgrid(KT,KT)\n",
    "\n",
    "ax1=py.subplot(nrows,ncols,1)\n",
    "c1=ax1.contourf(KTX,KTY,rho_down_grid,cmap='jet',levels=25)\n",
    "ax1.xaxis.set_tick_params(length=3,width=2,which='both',direction='out',labelsize=18)\n",
    "ax1.yaxis.set_tick_params(length=3,width=2,which='both',direction='out',labelsize=18)\n",
    "ax1.set_yticks([-0.75,-0.5,-0.25,0,0.25,0.5,0.75])\n",
    "ax1.set_yticklabels([r'\\boldmath{$-0.75$}',r'\\boldmath{$-0.5$}',r'\\boldmath{$-0.25$}',\\\n",
    "                     r'\\boldmath{$0.0$}',r'\\boldmath{$0.25$}',r'\\boldmath{$0.5$}',r'\\boldmath{$0.75$}'])\n",
    "ax1.set_xticks([-0.75,-0.5,-0.25,0,0.25,0.5,0.75])\n",
    "ax1.set_xticklabels([r'\\boldmath{$-0.75$}',r'\\boldmath{$-0.5$}',r'\\boldmath{$-0.25$}',\\\n",
    "                     r'\\boldmath{$0.0$}',r'\\boldmath{$0.25$}',r'\\boldmath{$0.5$}',r'\\boldmath{$0.75$}'])\n",
    "ax1.set_ylabel(r'\\boldmath{$k_{Ty}\\,{\\rm (GeV)}$}',fontsize=24)\n",
    "ax1.set_xlabel(r'\\boldmath{$k_{Tx}\\,{\\rm (GeV)}$}',fontsize=24,labelpad=10)\n",
    "ax1.axhline(0,color='white',ls='--',linewidth=2)\n",
    "ax1.axvline(0,color='white',ls='--',linewidth=2)\n",
    "ax1.text(0.03,0.9,r'\\boldmath{${\\rm down}$}',size=30,color='white',transform=ax1.transAxes)\n",
    "ax1.text(0.02,0.03,r'\\boldmath{$x\\!=\\!0.1$}',size=27,color='white',transform=ax1.transAxes)\n",
    "\n",
    "ax2=py.subplot(nrows,ncols,2,sharey=ax1)\n",
    "c2=ax2.contourf(KTX,KTY,rho_up_grid,cmap='jet',levels=25)\n",
    "ax2.xaxis.set_tick_params(length=3,width=2,which='both',direction='out',labelsize=18)\n",
    "ax2.yaxis.set_tick_params(length=3,width=2,which='both',direction='in',labelsize=0)\n",
    "ax2.set_xticks([-0.75,-0.5,-0.25,0,0.25,0.5,0.75])\n",
    "ax2.set_xticklabels([r'\\boldmath{$-0.75$}',r'\\boldmath{$-0.5$}',r'\\boldmath{$-0.25$}',\\\n",
    "                     r'\\boldmath{$0.0$}',r'\\boldmath{$0.25$}',r'\\boldmath{$0.5$}',r'\\boldmath{$0.75$}'])\n",
    "ax2.set_xlabel(r'\\boldmath{$k_{Tx}\\,{\\rm (GeV)}$}',fontsize=24,labelpad=10)\n",
    "ax2.axhline(0,color='white',ls='--',linewidth=2)\n",
    "ax2.axvline(0,color='white',ls='--',linewidth=2)\n",
    "ax2.text(0.875,0.9,r'\\boldmath{${\\rm up}$}',size=30,color='white',transform=ax2.transAxes)\n",
    "\n",
    "cbar_ax=fig.add_axes([1., 0.15, 0.02, 0.8])\n",
    "cbar_ax.tick_params(labelsize=18)\n",
    "\n",
    "cbar=fig.colorbar(c2,cax=cbar_ax)\n",
    "cbar.set_ticks([0.0,0.5,1.0,1.5,2.0,2.5,3.0,3.5,4.0])\n",
    "cbar.set_ticklabels([r'\\boldmath{$0.0$}',r'\\boldmath{$0.5$}',r'\\boldmath{$1.0$}',r'\\boldmath{$1.5$}'\\\n",
    "                     ,r'\\boldmath{$2.0$}',r'\\boldmath{$3.0$}',r'\\boldmath{$3.5$}',r'\\boldmath{$4.0$}'])\n",
    "\n",
    "py.subplots_adjust(py.subplots_adjust(left=0.135\n",
    "                , bottom=0.075\n",
    "                , right=0.975\n",
    "                , top=0.99\n",
    "                , wspace=0\n",
    "                , hspace=0))\n",
    "\n",
    "py.savefig(sivers_3D.pdf)"
   ]
  },
  {
   "cell_type": "code",
   "execution_count": null,
   "metadata": {},
   "outputs": [],
   "source": []
  }
 ],
 "metadata": {
  "anaconda-cloud": {},
  "kernelspec": {
   "display_name": "Python 3",
   "language": "python",
   "name": "python3"
  },
  "language_info": {
   "codemirror_mode": {
    "name": "ipython",
    "version": 3
   },
   "file_extension": ".py",
   "mimetype": "text/x-python",
   "name": "python",
   "nbconvert_exporter": "python",
   "pygments_lexer": "ipython3",
   "version": "3.8.6"
  }
 },
 "nbformat": 4,
 "nbformat_minor": 4
}
