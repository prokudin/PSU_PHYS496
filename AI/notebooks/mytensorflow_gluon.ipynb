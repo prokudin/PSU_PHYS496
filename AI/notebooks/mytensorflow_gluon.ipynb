{
  "nbformat": 4,
  "nbformat_minor": 0,
  "metadata": {
    "colab": {
      "provenance": []
    },
    "kernelspec": {
      "name": "python3",
      "display_name": "Python 3"
    },
    "language_info": {
      "name": "python"
    }
  },
  "cells": [
    {
      "cell_type": "markdown",
      "source": [
        "## **Overview**\n",
        "\n",
        "The first example of usage of tensorflow where I partition the data in test and training sets manually.\n",
        "\n",
        "We will be working with the [Gluon dataset](https://github.com/rabah-khalek/TF_tutorials/tree/master/PseudoData). A gluon is an elementary particle which gives rise to the strong force, which is the force responsible for binding together the protons and neutrons together in atomic nuclei.\n",
        "\n",
        "The gluon is exchanged by other elementary particles in the proton and neutron called quarks. These quarks and gluons are more generally referred to as \"partons\".\n",
        "\n",
        "Because of certain physical properties governing the partons, they cannot be observed by expermiments as free particles, and their distribution within the proton and neutron cannot be calculated analytically. Instead, their distribution must be inferred from data collected by high energy particle colliders like the Large Hadron Collider (LHC) at CERN.\n",
        "\n",
        "A fast-moving proton can be described by the parton distribution function (PDF) $f(x)$, which gives the probability density of finding a parton of type $f$ (a specific quark type or gluon) carrying a fraction $x$ of the proton momentum.\n",
        "\n",
        "The pseudodata used in this tutorial is generated from a gluon distribution function $g(x)$, which was determined in an analysis by the [NNPDF collaboration](http://nnpdf.mi.infn.it), aiming to extract the structure of the proton using contemporary machine learning methods. More specifically, NNPDF determines PDFs using neural networks as a minimally biased modeling tool, trained using Genetic Algorithms (and more recently stochastic gradient descent).\n",
        "\n",
        "We will consider this pseudodata to be the *truth* that we're trying to *discover*. What we will actually fit is the *smeared truth*, where Gaussian noise is added to simulate more realistic data."
      ],
      "metadata": {
        "id": "0H17FH4vf2ih"
      }
    },
    {
      "cell_type": "markdown",
      "source": [
        "## **Importing the Gluon data set with Pandas**\n",
        "\n",
        "There are four separate datasets each containing a total of 1000 gluon PDF predictions computed between $x=[x_{min},1]$; where:\n",
        "- $x_{min} = 10^{-3}$ for `filename1`\n",
        "- $x_{min} = 10^{-4}$ for `filename2`\n",
        "- $x_{min} = 10^{-5}$ for `filename3`\n",
        "- $x_{min} = 10^{-6}$ for `filename4`\n",
        "\n",
        "Below we use Pandas to import all datapoints from text files."
      ],
      "metadata": {
        "id": "R5D0hc9hgJON"
      }
    },
    {
      "cell_type": "code",
      "execution_count": 1,
      "metadata": {
        "id": "ARkmijw5ftRE"
      },
      "outputs": [],
      "source": [
        "import pandas as pd\n",
        "from sklearn.model_selection import train_test_split\n",
        "\n",
        "# The datasets needed are computed by the `ComputeGluon.py` script in PseudoData\n",
        "filename1='https://raw.githubusercontent.com/rabah-khalek/TF_tutorials/master/PseudoData/gluon_NNPDF31_nlo_pch_as_0118_xmin1e-3.dat'\n",
        "filename2='https://raw.githubusercontent.com/rabah-khalek/TF_tutorials/master/PseudoData/gluon_NNPDF31_nlo_pch_as_0118_xmin1e-4.dat'\n",
        "filename3='https://raw.githubusercontent.com/rabah-khalek/TF_tutorials/master/PseudoData/gluon_NNPDF31_nlo_pch_as_0118_xmin1e-5.dat'\n",
        "filename4='https://raw.githubusercontent.com/rabah-khalek/TF_tutorials/master/PseudoData/gluon_NNPDF31_nlo_pch_as_0118_xmin1e-6.dat'\n",
        "\n",
        "# Headers to skip\n",
        "lines_to_skip = 5\n",
        "\n",
        "# Defining the columns (cv = central value, sd = standard deviation)\n",
        "columns=[\"x\", \"gluon_cv\", \"gluon_sd\"]\n",
        "\n",
        "# Change filename1 to another filename for data that extends to lower x\n",
        "# (see exercises at the bottom of this notebook)\n",
        "df = pd.read_csv(filename1,\n",
        "                 sep=\"\\s+\",\n",
        "                 skiprows=lines_to_skip,\n",
        "                 usecols=[0,1,2],\n",
        "                 names=columns)\n",
        "\n",
        "# Splitting data randomly to train and test using the sklearn library\n",
        "df_train, df_test = train_test_split(df,test_size=0.2,random_state=42)\n",
        "\n",
        "# Sort the split data according to their x values\n",
        "df_train = df_train.sort_values(\"x\")\n",
        "df_test = df_test.sort_values(\"x\")\n",
        "\n"
      ]
    },
    {
      "cell_type": "markdown",
      "source": [
        "Let us plot what we loaded"
      ],
      "metadata": {
        "id": "aSW5Qmdvia1F"
      }
    },
    {
      "cell_type": "code",
      "source": [
        "import matplotlib.pyplot as plt\n",
        "\n",
        "def createTrainTestPlots(train, test):\n",
        "  \"\"\"\n",
        "  plots the data from the train and test sets.\n",
        "\n",
        "  :param train: Required, dataframe with keys in [\"x\", \"gluon_cv\", \"gluon_sd\"].\n",
        "  :param test: Required, dataframe with keys in [\"x\", \"gluon_cv\", \"gluon_sd\"].\n",
        "  \"\"\"\n",
        "  fig, ax = plt.subplots(1,2,figsize=(10, 3))\n",
        "  ax[0].axhline(0,color='k',linewidth=0.5)\n",
        "  ax[0].errorbar(train['x'], train['x']*train['gluon_cv'], train['gluon_sd'], fmt = '.', color='b', alpha=0.5)\n",
        "  ax[0].set_title(\"Train data\")\n",
        "  ax[0].set_xlabel(\"x\")\n",
        "  ax[0].set_ylabel(\"g(x)\")\n",
        "  ax[0].set_ylim(-0.05,0.4)\n",
        "  ax[1].axhline(0,color='k',linewidth=0.5)\n",
        "  ax[1].errorbar(test['x'], test['x']*test['gluon_cv'], test['gluon_sd'], fmt = '.', color='r', alpha=0.5)\n",
        "  ax[1].set_title(\"Test data\")\n",
        "  ax[1].set_xlabel(\"x\")\n",
        "  ax[1].set_ylabel(\"g(x)\")\n",
        "  ax[1].set_ylim(-0.05,0.4)\n",
        "  plt.show()"
      ],
      "metadata": {
        "id": "s1I-nPjBiO71"
      },
      "execution_count": 2,
      "outputs": []
    },
    {
      "cell_type": "code",
      "source": [
        "createTrainTestPlots(df_train, df_test)"
      ],
      "metadata": {
        "colab": {
          "base_uri": "https://localhost:8080/",
          "height": 353
        },
        "id": "575MhEhPkJok",
        "outputId": "33c57c2a-18c3-42d8-c906-7dcab78ea00b"
      },
      "execution_count": 3,
      "outputs": [
        {
          "output_type": "display_data",
          "data": {
            "text/plain": [
              "<Figure size 1000x300 with 2 Axes>"
            ],
            "image/png": "[encoded data removed]"
          },
          "metadata": {}
        }
      ]
    },
    {
      "cell_type": "markdown",
      "source": [],
      "metadata": {
        "id": "QtiQjfIBf1Q0"
      }
    },
    {
      "cell_type": "markdown",
      "source": [
        "Now we have to prepare the data for the training"
      ],
      "metadata": {
        "id": "USd3mUNKm5Dx"
      }
    },
    {
      "cell_type": "code",
      "source": [
        "# From the dataframe we extract x, gluon and the error on the gluon and cast them to numpy arrays\n",
        "train_x = df_train['x'].to_numpy()\n",
        "train_y = df_train['gluon_cv'].to_numpy()\n",
        "train_dy = df_train['gluon_sd'].to_numpy()\n",
        "\n",
        "# From the dataframe we extract x, gluon and the error on the gluon and cast them to numpy arrays\n",
        "test_x = df_test['x'].to_numpy()\n",
        "test_y = df_test['gluon_cv'].to_numpy()\n",
        "test_dy = df_test['gluon_sd'].to_numpy()"
      ],
      "metadata": {
        "id": "-P7JyK90m7i0"
      },
      "execution_count": 4,
      "outputs": []
    },
    {
      "cell_type": "markdown",
      "source": [
        "### Work on one Model\n",
        "\n",
        "We want to try to build the a model to identify the amplitude, and X and Y coordinates of the shower.\n",
        "\n",
        "#### Open questions:\n",
        "1. What batch size?\n",
        "1. What learning rate?\n",
        "1. How many layers?\n",
        "1. How many nodes per layer?\n",
        "1. etc...\n",
        "\n",
        "\n",
        "### Let's begin by writing a function:\n",
        "\n",
        "1. a basic sequential neural network:\n",
        "  * configurable input dimensions (width)\n",
        "  * configurable number of nodes per layer\n",
        "  * configurable activations per layer\n",
        "  * configurable number of outputs\n",
        "\n"
      ],
      "metadata": {
        "id": "nmByTNXAnt3R"
      }
    },
    {
      "cell_type": "code",
      "source": [
        "# import tensor flow packages\n",
        "from tensorflow import keras\n",
        "from keras.models import Sequential\n",
        "from keras.layers import BatchNormalization\n",
        "from keras.layers import Conv2D\n",
        "from keras.layers import MaxPooling2D\n",
        "from keras.layers import Activation\n",
        "from keras.layers import Dropout\n",
        "from keras.layers import Dense\n",
        "from keras.layers import Flatten\n",
        "from keras.layers import Input\n",
        "from keras.models import Model\n",
        "from tensorflow.keras.optimizers import Adam\n",
        "from keras.callbacks import EarlyStopping"
      ],
      "metadata": {
        "id": "JefzwdZEoKZ2"
      },
      "execution_count": 5,
      "outputs": []
    },
    {
      "cell_type": "code",
      "source": [
        "# sequential neural network with selected parameters, two layers here\n",
        "def create_sequential_dnn(inputs=1, num_nodes=(6,6), activations=('sigmoid','sigmoid'), outputs=1):\n",
        "\n",
        "  model = Sequential()\n",
        "\n",
        "  model.add(Flatten())\n",
        "\n",
        "  if len(num_nodes) != len(activations):\n",
        "    print('The length of the number of nodes array and activations array must be the same.')\n",
        "    sys.exit()\n",
        "\n",
        "  # loop over the number of nodes\n",
        "  for (i, n) in enumerate(num_nodes):\n",
        "    if i == 0:\n",
        "      model.add(Dense(n, activation=activations[i], input_dim=inputs))\n",
        "    else:\n",
        "      model.add(Dense(n, activation=activations[i]))\n",
        "\n",
        "  # output\n",
        "  model.add(Dense(outputs, activation=\"linear\"))\n",
        "\n",
        "  # return the CNN\n",
        "  return model"
      ],
      "metadata": {
        "id": "PO6PCBzfnHlF"
      },
      "execution_count": 6,
      "outputs": []
    },
    {
      "cell_type": "markdown",
      "source": [
        "Create and compile the model"
      ],
      "metadata": {
        "id": "vKCuXUzCpiRp"
      }
    },
    {
      "cell_type": "code",
      "source": [
        "model = create_sequential_dnn()\n",
        "# Adam optimizer\n",
        "lr = 0.01\n",
        "opt = Adam(learning_rate=lr)\n",
        "# Compile the model\n",
        "model.compile(loss=\"mse\", optimizer=opt)"
      ],
      "metadata": {
        "id": "FtYHj9iBnIpw"
      },
      "execution_count": 7,
      "outputs": []
    },
    {
      "cell_type": "markdown",
      "source": [
        "Start the fit"
      ],
      "metadata": {
        "id": "VNUV1QZrpr3x"
      }
    },
    {
      "cell_type": "code",
      "source": [
        "# sequential network - feel free to add elements\n",
        "history = model.fit(x=train_x,\n",
        "                    y=train_y,\n",
        "                    validation_data=(test_x, test_y),\n",
        "                    epochs=200,\n",
        "                    batch_size=10)"
      ],
      "metadata": {
        "colab": {
          "base_uri": "https://localhost:8080/"
        },
        "id": "BB5y8RtypVFy",
        "outputId": "cfd5934f-5a59-487c-d93d-7afd654bfb86"
      },
      "execution_count": 8,
      "outputs": [
        {
          "output_type": "stream",
          "name": "stdout",
          "text": [
            "Epoch 1/200\n",
            "80/80 [==============================] - 2s 7ms/step - loss: 3.6424 - val_loss: 2.3383\n",
            "Epoch 2/200\n",
            "80/80 [==============================] - 0s 2ms/step - loss: 2.3335 - val_loss: 2.1885\n",
            "Epoch 3/200\n",
            "80/80 [==============================] - 0s 3ms/step - loss: 2.1340 - val_loss: 1.9185\n",
            "Epoch 4/200\n",
            "80/80 [==============================] - 0s 4ms/step - loss: 1.7914 - val_loss: 1.4885\n",
            "Epoch 5/200\n",
            "80/80 [==============================] - 1s 7ms/step - loss: 1.2670 - val_loss: 0.9242\n",
            "Epoch 6/200\n",
            "80/80 [==============================] - 0s 4ms/step - loss: 0.7424 - val_loss: 0.5102\n",
            "Epoch 7/200\n",
            "80/80 [==============================] - 0s 5ms/step - loss: 0.4400 - val_loss: 0.3493\n",
            "Epoch 8/200\n",
            "80/80 [==============================] - 0s 4ms/step - loss: 0.3179 - val_loss: 0.2676\n",
            "Epoch 9/200\n",
            "80/80 [==============================] - 0s 5ms/step - loss: 0.2500 - val_loss: 0.2145\n",
            "Epoch 10/200\n",
            "80/80 [==============================] - 0s 6ms/step - loss: 0.2008 - val_loss: 0.1726\n",
            "Epoch 11/200\n",
            "80/80 [==============================] - 1s 7ms/step - loss: 0.1635 - val_loss: 0.1428\n",
            "Epoch 12/200\n",
            "80/80 [==============================] - 1s 7ms/step - loss: 0.1360 - val_loss: 0.1181\n",
            "Epoch 13/200\n",
            "80/80 [==============================] - 0s 6ms/step - loss: 0.1158 - val_loss: 0.1001\n",
            "Epoch 14/200\n",
            "80/80 [==============================] - 1s 6ms/step - loss: 0.0993 - val_loss: 0.0855\n",
            "Epoch 15/200\n",
            "80/80 [==============================] - 0s 4ms/step - loss: 0.0887 - val_loss: 0.0732\n",
            "Epoch 16/200\n",
            "80/80 [==============================] - 0s 3ms/step - loss: 0.0749 - val_loss: 0.0627\n",
            "Epoch 17/200\n",
            "80/80 [==============================] - 0s 5ms/step - loss: 0.0661 - val_loss: 0.0547\n",
            "Epoch 18/200\n",
            "80/80 [==============================] - 0s 4ms/step - loss: 0.0599 - val_loss: 0.0484\n",
            "Epoch 19/200\n",
            "80/80 [==============================] - 0s 2ms/step - loss: 0.0539 - val_loss: 0.0490\n",
            "Epoch 20/200\n",
            "80/80 [==============================] - 0s 3ms/step - loss: 0.0495 - val_loss: 0.0404\n",
            "Epoch 21/200\n",
            "80/80 [==============================] - 0s 2ms/step - loss: 0.0449 - val_loss: 0.0362\n",
            "Epoch 22/200\n",
            "80/80 [==============================] - 0s 2ms/step - loss: 0.0415 - val_loss: 0.0334\n",
            "Epoch 23/200\n",
            "80/80 [==============================] - 0s 2ms/step - loss: 0.0393 - val_loss: 0.0322\n",
            "Epoch 24/200\n",
            "80/80 [==============================] - 0s 3ms/step - loss: 0.0381 - val_loss: 0.0295\n",
            "Epoch 25/200\n",
            "80/80 [==============================] - 0s 2ms/step - loss: 0.0356 - val_loss: 0.0332\n",
            "Epoch 26/200\n",
            "80/80 [==============================] - 0s 2ms/step - loss: 0.0348 - val_loss: 0.0273\n",
            "Epoch 27/200\n",
            "80/80 [==============================] - 0s 2ms/step - loss: 0.0323 - val_loss: 0.0263\n",
            "Epoch 28/200\n",
            "80/80 [==============================] - 0s 2ms/step - loss: 0.0322 - val_loss: 0.0257\n",
            "Epoch 29/200\n",
            "80/80 [==============================] - 0s 2ms/step - loss: 0.0312 - val_loss: 0.0281\n",
            "Epoch 30/200\n",
            "80/80 [==============================] - 0s 2ms/step - loss: 0.0307 - val_loss: 0.0289\n",
            "Epoch 31/200\n",
            "80/80 [==============================] - 0s 2ms/step - loss: 0.0301 - val_loss: 0.0291\n",
            "Epoch 32/200\n",
            "80/80 [==============================] - 0s 2ms/step - loss: 0.0303 - val_loss: 0.0253\n",
            "Epoch 33/200\n",
            "80/80 [==============================] - 0s 3ms/step - loss: 0.0288 - val_loss: 0.0242\n",
            "Epoch 34/200\n",
            "80/80 [==============================] - 0s 2ms/step - loss: 0.0278 - val_loss: 0.0241\n",
            "Epoch 35/200\n",
            "80/80 [==============================] - 0s 3ms/step - loss: 0.0283 - val_loss: 0.0262\n",
            "Epoch 36/200\n",
            "80/80 [==============================] - 0s 2ms/step - loss: 0.0272 - val_loss: 0.0251\n",
            "Epoch 37/200\n",
            "80/80 [==============================] - 0s 2ms/step - loss: 0.0271 - val_loss: 0.0294\n",
            "Epoch 38/200\n",
            "80/80 [==============================] - 0s 3ms/step - loss: 0.0265 - val_loss: 0.0235\n",
            "Epoch 39/200\n",
            "80/80 [==============================] - 0s 3ms/step - loss: 0.0282 - val_loss: 0.0274\n",
            "Epoch 40/200\n",
            "80/80 [==============================] - 0s 3ms/step - loss: 0.0275 - val_loss: 0.0248\n",
            "Epoch 41/200\n",
            "80/80 [==============================] - 0s 2ms/step - loss: 0.0274 - val_loss: 0.0231\n",
            "Epoch 42/200\n",
            "80/80 [==============================] - 0s 2ms/step - loss: 0.0259 - val_loss: 0.0296\n",
            "Epoch 43/200\n",
            "80/80 [==============================] - 0s 2ms/step - loss: 0.0276 - val_loss: 0.0228\n",
            "Epoch 44/200\n",
            "80/80 [==============================] - 0s 2ms/step - loss: 0.0262 - val_loss: 0.0242\n",
            "Epoch 45/200\n",
            "80/80 [==============================] - 0s 2ms/step - loss: 0.0276 - val_loss: 0.0239\n",
            "Epoch 46/200\n",
            "80/80 [==============================] - 0s 2ms/step - loss: 0.0254 - val_loss: 0.0239\n",
            "Epoch 47/200\n",
            "80/80 [==============================] - 0s 3ms/step - loss: 0.0249 - val_loss: 0.0224\n",
            "Epoch 48/200\n",
            "80/80 [==============================] - 0s 2ms/step - loss: 0.0269 - val_loss: 0.0227\n",
            "Epoch 49/200\n",
            "80/80 [==============================] - 0s 2ms/step - loss: 0.0267 - val_loss: 0.0304\n",
            "Epoch 50/200\n",
            "80/80 [==============================] - 0s 2ms/step - loss: 0.0274 - val_loss: 0.0222\n",
            "Epoch 51/200\n",
            "80/80 [==============================] - 0s 2ms/step - loss: 0.0261 - val_loss: 0.0218\n",
            "Epoch 52/200\n",
            "80/80 [==============================] - 0s 2ms/step - loss: 0.0254 - val_loss: 0.0255\n",
            "Epoch 53/200\n",
            "80/80 [==============================] - 0s 3ms/step - loss: 0.0266 - val_loss: 0.0216\n",
            "Epoch 54/200\n",
            "80/80 [==============================] - 0s 2ms/step - loss: 0.0256 - val_loss: 0.0216\n",
            "Epoch 55/200\n",
            "80/80 [==============================] - 0s 2ms/step - loss: 0.0273 - val_loss: 0.0221\n",
            "Epoch 56/200\n",
            "80/80 [==============================] - 0s 3ms/step - loss: 0.0242 - val_loss: 0.0217\n",
            "Epoch 57/200\n",
            "80/80 [==============================] - 0s 2ms/step - loss: 0.0243 - val_loss: 0.0210\n",
            "Epoch 58/200\n",
            "80/80 [==============================] - 0s 2ms/step - loss: 0.0240 - val_loss: 0.0241\n",
            "Epoch 59/200\n",
            "80/80 [==============================] - 0s 3ms/step - loss: 0.0242 - val_loss: 0.0210\n",
            "Epoch 60/200\n",
            "80/80 [==============================] - 0s 2ms/step - loss: 0.0241 - val_loss: 0.0207\n",
            "Epoch 61/200\n",
            "80/80 [==============================] - 0s 2ms/step - loss: 0.0241 - val_loss: 0.0209\n",
            "Epoch 62/200\n",
            "80/80 [==============================] - 0s 2ms/step - loss: 0.0251 - val_loss: 0.0218\n",
            "Epoch 63/200\n",
            "80/80 [==============================] - 0s 2ms/step - loss: 0.0234 - val_loss: 0.0208\n",
            "Epoch 64/200\n",
            "80/80 [==============================] - 0s 3ms/step - loss: 0.0226 - val_loss: 0.0205\n",
            "Epoch 65/200\n",
            "80/80 [==============================] - 0s 2ms/step - loss: 0.0229 - val_loss: 0.0199\n",
            "Epoch 66/200\n",
            "80/80 [==============================] - 0s 3ms/step - loss: 0.0240 - val_loss: 0.0276\n",
            "Epoch 67/200\n",
            "80/80 [==============================] - 0s 3ms/step - loss: 0.0234 - val_loss: 0.0204\n",
            "Epoch 68/200\n",
            "80/80 [==============================] - 0s 3ms/step - loss: 0.0231 - val_loss: 0.0199\n",
            "Epoch 69/200\n",
            "80/80 [==============================] - 0s 3ms/step - loss: 0.0221 - val_loss: 0.0246\n",
            "Epoch 70/200\n",
            "80/80 [==============================] - 0s 3ms/step - loss: 0.0251 - val_loss: 0.0193\n",
            "Epoch 71/200\n",
            "80/80 [==============================] - 0s 3ms/step - loss: 0.0217 - val_loss: 0.0194\n",
            "Epoch 72/200\n",
            "80/80 [==============================] - 0s 3ms/step - loss: 0.0212 - val_loss: 0.0210\n",
            "Epoch 73/200\n",
            "80/80 [==============================] - 0s 3ms/step - loss: 0.0206 - val_loss: 0.0197\n",
            "Epoch 74/200\n",
            "80/80 [==============================] - 0s 3ms/step - loss: 0.0214 - val_loss: 0.0179\n",
            "Epoch 75/200\n",
            "80/80 [==============================] - 0s 3ms/step - loss: 0.0205 - val_loss: 0.0191\n",
            "Epoch 76/200\n",
            "80/80 [==============================] - 0s 3ms/step - loss: 0.0218 - val_loss: 0.0173\n",
            "Epoch 77/200\n",
            "80/80 [==============================] - 0s 2ms/step - loss: 0.0220 - val_loss: 0.0409\n",
            "Epoch 78/200\n",
            "80/80 [==============================] - 0s 2ms/step - loss: 0.0223 - val_loss: 0.0176\n",
            "Epoch 79/200\n",
            "80/80 [==============================] - 0s 3ms/step - loss: 0.0200 - val_loss: 0.0210\n",
            "Epoch 80/200\n",
            "80/80 [==============================] - 0s 2ms/step - loss: 0.0193 - val_loss: 0.0165\n",
            "Epoch 81/200\n",
            "80/80 [==============================] - 0s 2ms/step - loss: 0.0182 - val_loss: 0.0223\n",
            "Epoch 82/200\n",
            "80/80 [==============================] - 0s 3ms/step - loss: 0.0188 - val_loss: 0.0255\n",
            "Epoch 83/200\n",
            "80/80 [==============================] - 0s 3ms/step - loss: 0.0201 - val_loss: 0.0157\n",
            "Epoch 84/200\n",
            "80/80 [==============================] - 0s 2ms/step - loss: 0.0176 - val_loss: 0.0161\n",
            "Epoch 85/200\n",
            "80/80 [==============================] - 0s 2ms/step - loss: 0.0174 - val_loss: 0.0153\n",
            "Epoch 86/200\n",
            "80/80 [==============================] - 0s 3ms/step - loss: 0.0176 - val_loss: 0.0151\n",
            "Epoch 87/200\n",
            "80/80 [==============================] - 0s 2ms/step - loss: 0.0176 - val_loss: 0.0166\n",
            "Epoch 88/200\n",
            "80/80 [==============================] - 0s 3ms/step - loss: 0.0172 - val_loss: 0.0163\n",
            "Epoch 89/200\n",
            "80/80 [==============================] - 0s 2ms/step - loss: 0.0166 - val_loss: 0.0172\n",
            "Epoch 90/200\n",
            "80/80 [==============================] - 0s 2ms/step - loss: 0.0168 - val_loss: 0.0153\n",
            "Epoch 91/200\n",
            "80/80 [==============================] - 0s 2ms/step - loss: 0.0160 - val_loss: 0.0147\n",
            "Epoch 92/200\n",
            "80/80 [==============================] - 0s 2ms/step - loss: 0.0175 - val_loss: 0.0142\n",
            "Epoch 93/200\n",
            "80/80 [==============================] - 0s 3ms/step - loss: 0.0158 - val_loss: 0.0214\n",
            "Epoch 94/200\n",
            "80/80 [==============================] - 0s 3ms/step - loss: 0.0202 - val_loss: 0.0159\n",
            "Epoch 95/200\n",
            "80/80 [==============================] - 0s 2ms/step - loss: 0.0157 - val_loss: 0.0151\n",
            "Epoch 96/200\n",
            "80/80 [==============================] - 0s 2ms/step - loss: 0.0156 - val_loss: 0.0141\n",
            "Epoch 97/200\n",
            "80/80 [==============================] - 0s 2ms/step - loss: 0.0155 - val_loss: 0.0143\n",
            "Epoch 98/200\n",
            "80/80 [==============================] - 0s 3ms/step - loss: 0.0145 - val_loss: 0.0153\n",
            "Epoch 99/200\n",
            "80/80 [==============================] - 0s 2ms/step - loss: 0.0153 - val_loss: 0.0135\n",
            "Epoch 100/200\n",
            "80/80 [==============================] - 0s 3ms/step - loss: 0.0138 - val_loss: 0.0133\n",
            "Epoch 101/200\n",
            "80/80 [==============================] - 0s 3ms/step - loss: 0.0150 - val_loss: 0.0176\n",
            "Epoch 102/200\n",
            "80/80 [==============================] - 0s 3ms/step - loss: 0.0137 - val_loss: 0.0131\n",
            "Epoch 103/200\n",
            "80/80 [==============================] - 0s 2ms/step - loss: 0.0138 - val_loss: 0.0129\n",
            "Epoch 104/200\n",
            "80/80 [==============================] - 0s 3ms/step - loss: 0.0149 - val_loss: 0.0159\n",
            "Epoch 105/200\n",
            "80/80 [==============================] - 0s 2ms/step - loss: 0.0138 - val_loss: 0.0125\n",
            "Epoch 106/200\n",
            "80/80 [==============================] - 0s 3ms/step - loss: 0.0137 - val_loss: 0.0165\n",
            "Epoch 107/200\n",
            "80/80 [==============================] - 0s 2ms/step - loss: 0.0134 - val_loss: 0.0128\n",
            "Epoch 108/200\n",
            "80/80 [==============================] - 0s 3ms/step - loss: 0.0128 - val_loss: 0.0121\n",
            "Epoch 109/200\n",
            "80/80 [==============================] - 0s 2ms/step - loss: 0.0124 - val_loss: 0.0121\n",
            "Epoch 110/200\n",
            "80/80 [==============================] - 0s 3ms/step - loss: 0.0136 - val_loss: 0.0131\n",
            "Epoch 111/200\n",
            "80/80 [==============================] - 0s 3ms/step - loss: 0.0132 - val_loss: 0.0121\n",
            "Epoch 112/200\n",
            "80/80 [==============================] - 0s 2ms/step - loss: 0.0141 - val_loss: 0.0155\n",
            "Epoch 113/200\n",
            "80/80 [==============================] - 0s 3ms/step - loss: 0.0123 - val_loss: 0.0118\n",
            "Epoch 114/200\n",
            "80/80 [==============================] - 0s 2ms/step - loss: 0.0126 - val_loss: 0.0111\n",
            "Epoch 115/200\n",
            "80/80 [==============================] - 0s 2ms/step - loss: 0.0122 - val_loss: 0.0110\n",
            "Epoch 116/200\n",
            "80/80 [==============================] - 0s 2ms/step - loss: 0.0135 - val_loss: 0.0153\n",
            "Epoch 117/200\n",
            "80/80 [==============================] - 0s 2ms/step - loss: 0.0127 - val_loss: 0.0107\n",
            "Epoch 118/200\n",
            "80/80 [==============================] - 0s 3ms/step - loss: 0.0116 - val_loss: 0.0110\n",
            "Epoch 119/200\n",
            "80/80 [==============================] - 0s 2ms/step - loss: 0.0111 - val_loss: 0.0108\n",
            "Epoch 120/200\n",
            "80/80 [==============================] - 0s 2ms/step - loss: 0.0112 - val_loss: 0.0134\n",
            "Epoch 121/200\n",
            "80/80 [==============================] - 0s 2ms/step - loss: 0.0120 - val_loss: 0.0120\n",
            "Epoch 122/200\n",
            "80/80 [==============================] - 0s 3ms/step - loss: 0.0110 - val_loss: 0.0134\n",
            "Epoch 123/200\n",
            "80/80 [==============================] - 0s 2ms/step - loss: 0.0115 - val_loss: 0.0116\n",
            "Epoch 124/200\n",
            "80/80 [==============================] - 0s 3ms/step - loss: 0.0107 - val_loss: 0.0097\n",
            "Epoch 125/200\n",
            "80/80 [==============================] - 0s 3ms/step - loss: 0.0105 - val_loss: 0.0102\n",
            "Epoch 126/200\n",
            "80/80 [==============================] - 0s 2ms/step - loss: 0.0105 - val_loss: 0.0100\n",
            "Epoch 127/200\n",
            "80/80 [==============================] - 0s 2ms/step - loss: 0.0102 - val_loss: 0.0097\n",
            "Epoch 128/200\n",
            "80/80 [==============================] - 0s 3ms/step - loss: 0.0106 - val_loss: 0.0226\n",
            "Epoch 129/200\n",
            "80/80 [==============================] - 0s 3ms/step - loss: 0.0111 - val_loss: 0.0090\n",
            "Epoch 130/200\n",
            "80/80 [==============================] - 0s 3ms/step - loss: 0.0096 - val_loss: 0.0104\n",
            "Epoch 131/200\n",
            "80/80 [==============================] - 0s 3ms/step - loss: 0.0096 - val_loss: 0.0088\n",
            "Epoch 132/200\n",
            "80/80 [==============================] - 0s 3ms/step - loss: 0.0092 - val_loss: 0.0088\n",
            "Epoch 133/200\n",
            "80/80 [==============================] - 0s 3ms/step - loss: 0.0092 - val_loss: 0.0092\n",
            "Epoch 134/200\n",
            "80/80 [==============================] - 0s 3ms/step - loss: 0.0090 - val_loss: 0.0098\n",
            "Epoch 135/200\n",
            "80/80 [==============================] - 0s 3ms/step - loss: 0.0089 - val_loss: 0.0084\n",
            "Epoch 136/200\n",
            "80/80 [==============================] - 0s 3ms/step - loss: 0.0084 - val_loss: 0.0082\n",
            "Epoch 137/200\n",
            "80/80 [==============================] - 0s 3ms/step - loss: 0.0087 - val_loss: 0.0095\n",
            "Epoch 138/200\n",
            "80/80 [==============================] - 0s 3ms/step - loss: 0.0083 - val_loss: 0.0112\n",
            "Epoch 139/200\n",
            "80/80 [==============================] - 0s 2ms/step - loss: 0.0093 - val_loss: 0.0076\n",
            "Epoch 140/200\n",
            "80/80 [==============================] - 0s 2ms/step - loss: 0.0077 - val_loss: 0.0089\n",
            "Epoch 141/200\n",
            "80/80 [==============================] - 0s 3ms/step - loss: 0.0076 - val_loss: 0.0081\n",
            "Epoch 142/200\n",
            "80/80 [==============================] - 0s 2ms/step - loss: 0.0098 - val_loss: 0.0091\n",
            "Epoch 143/200\n",
            "80/80 [==============================] - 0s 2ms/step - loss: 0.0081 - val_loss: 0.0076\n",
            "Epoch 144/200\n",
            "80/80 [==============================] - 0s 2ms/step - loss: 0.0078 - val_loss: 0.0096\n",
            "Epoch 145/200\n",
            "80/80 [==============================] - 0s 2ms/step - loss: 0.0083 - val_loss: 0.0072\n",
            "Epoch 146/200\n",
            "80/80 [==============================] - 0s 3ms/step - loss: 0.0071 - val_loss: 0.0067\n",
            "Epoch 147/200\n",
            "80/80 [==============================] - 0s 3ms/step - loss: 0.0070 - val_loss: 0.0067\n",
            "Epoch 148/200\n",
            "80/80 [==============================] - 0s 3ms/step - loss: 0.0067 - val_loss: 0.0102\n",
            "Epoch 149/200\n",
            "80/80 [==============================] - 0s 2ms/step - loss: 0.0067 - val_loss: 0.0063\n",
            "Epoch 150/200\n",
            "80/80 [==============================] - 0s 2ms/step - loss: 0.0068 - val_loss: 0.0063\n",
            "Epoch 151/200\n",
            "80/80 [==============================] - 0s 2ms/step - loss: 0.0070 - val_loss: 0.0063\n",
            "Epoch 152/200\n",
            "80/80 [==============================] - 0s 2ms/step - loss: 0.0066 - val_loss: 0.0065\n",
            "Epoch 153/200\n",
            "80/80 [==============================] - 0s 2ms/step - loss: 0.0062 - val_loss: 0.0062\n",
            "Epoch 154/200\n",
            "80/80 [==============================] - 0s 3ms/step - loss: 0.0063 - val_loss: 0.0083\n",
            "Epoch 155/200\n",
            "80/80 [==============================] - 0s 2ms/step - loss: 0.0062 - val_loss: 0.0072\n",
            "Epoch 156/200\n",
            "80/80 [==============================] - 0s 2ms/step - loss: 0.0057 - val_loss: 0.0058\n",
            "Epoch 157/200\n",
            "80/80 [==============================] - 0s 2ms/step - loss: 0.0062 - val_loss: 0.0057\n",
            "Epoch 158/200\n",
            "80/80 [==============================] - 0s 2ms/step - loss: 0.0055 - val_loss: 0.0098\n",
            "Epoch 159/200\n",
            "80/80 [==============================] - 0s 2ms/step - loss: 0.0069 - val_loss: 0.0053\n",
            "Epoch 160/200\n",
            "80/80 [==============================] - 0s 3ms/step - loss: 0.0055 - val_loss: 0.0051\n",
            "Epoch 161/200\n",
            "80/80 [==============================] - 0s 2ms/step - loss: 0.0051 - val_loss: 0.0053\n",
            "Epoch 162/200\n",
            "80/80 [==============================] - 0s 2ms/step - loss: 0.0056 - val_loss: 0.0058\n",
            "Epoch 163/200\n",
            "80/80 [==============================] - 0s 2ms/step - loss: 0.0051 - val_loss: 0.0049\n",
            "Epoch 164/200\n",
            "80/80 [==============================] - 0s 2ms/step - loss: 0.0054 - val_loss: 0.0055\n",
            "Epoch 165/200\n",
            "80/80 [==============================] - 0s 2ms/step - loss: 0.0058 - val_loss: 0.0049\n",
            "Epoch 166/200\n",
            "80/80 [==============================] - 0s 3ms/step - loss: 0.0052 - val_loss: 0.0050\n",
            "Epoch 167/200\n",
            "80/80 [==============================] - 0s 3ms/step - loss: 0.0049 - val_loss: 0.0044\n",
            "Epoch 168/200\n",
            "80/80 [==============================] - 0s 3ms/step - loss: 0.0045 - val_loss: 0.0045\n",
            "Epoch 169/200\n",
            "80/80 [==============================] - 0s 3ms/step - loss: 0.0049 - val_loss: 0.0061\n",
            "Epoch 170/200\n",
            "80/80 [==============================] - 0s 2ms/step - loss: 0.0044 - val_loss: 0.0057\n",
            "Epoch 171/200\n",
            "80/80 [==============================] - 0s 3ms/step - loss: 0.0044 - val_loss: 0.0040\n",
            "Epoch 172/200\n",
            "80/80 [==============================] - 0s 2ms/step - loss: 0.0039 - val_loss: 0.0039\n",
            "Epoch 173/200\n",
            "80/80 [==============================] - 0s 2ms/step - loss: 0.0043 - val_loss: 0.0038\n",
            "Epoch 174/200\n",
            "80/80 [==============================] - 0s 3ms/step - loss: 0.0040 - val_loss: 0.0044\n",
            "Epoch 175/200\n",
            "80/80 [==============================] - 0s 2ms/step - loss: 0.0043 - val_loss: 0.0037\n",
            "Epoch 176/200\n",
            "80/80 [==============================] - 0s 2ms/step - loss: 0.0042 - val_loss: 0.0042\n",
            "Epoch 177/200\n",
            "80/80 [==============================] - 0s 3ms/step - loss: 0.0039 - val_loss: 0.0033\n",
            "Epoch 178/200\n",
            "80/80 [==============================] - 0s 2ms/step - loss: 0.0037 - val_loss: 0.0034\n",
            "Epoch 179/200\n",
            "80/80 [==============================] - 0s 3ms/step - loss: 0.0037 - val_loss: 0.0035\n",
            "Epoch 180/200\n",
            "80/80 [==============================] - 0s 2ms/step - loss: 0.0033 - val_loss: 0.0031\n",
            "Epoch 181/200\n",
            "80/80 [==============================] - 0s 2ms/step - loss: 0.0033 - val_loss: 0.0029\n",
            "Epoch 182/200\n",
            "80/80 [==============================] - 0s 2ms/step - loss: 0.0032 - val_loss: 0.0029\n",
            "Epoch 183/200\n",
            "80/80 [==============================] - 0s 3ms/step - loss: 0.0033 - val_loss: 0.0029\n",
            "Epoch 184/200\n",
            "80/80 [==============================] - 0s 3ms/step - loss: 0.0035 - val_loss: 0.0027\n",
            "Epoch 185/200\n",
            "80/80 [==============================] - 0s 3ms/step - loss: 0.0032 - val_loss: 0.0026\n",
            "Epoch 186/200\n",
            "80/80 [==============================] - 0s 3ms/step - loss: 0.0030 - val_loss: 0.0026\n",
            "Epoch 187/200\n",
            "80/80 [==============================] - 0s 2ms/step - loss: 0.0033 - val_loss: 0.0028\n",
            "Epoch 188/200\n",
            "80/80 [==============================] - 0s 3ms/step - loss: 0.0027 - val_loss: 0.0030\n",
            "Epoch 189/200\n",
            "80/80 [==============================] - 0s 2ms/step - loss: 0.0035 - val_loss: 0.0032\n",
            "Epoch 190/200\n",
            "80/80 [==============================] - 0s 2ms/step - loss: 0.0030 - val_loss: 0.0022\n",
            "Epoch 191/200\n",
            "80/80 [==============================] - 0s 3ms/step - loss: 0.0028 - val_loss: 0.0028\n",
            "Epoch 192/200\n",
            "80/80 [==============================] - 0s 3ms/step - loss: 0.0027 - val_loss: 0.0030\n",
            "Epoch 193/200\n",
            "80/80 [==============================] - 0s 3ms/step - loss: 0.0033 - val_loss: 0.0028\n",
            "Epoch 194/200\n",
            "80/80 [==============================] - 0s 4ms/step - loss: 0.0027 - val_loss: 0.0026\n",
            "Epoch 195/200\n",
            "80/80 [==============================] - 0s 3ms/step - loss: 0.0024 - val_loss: 0.0024\n",
            "Epoch 196/200\n",
            "80/80 [==============================] - 0s 3ms/step - loss: 0.0026 - val_loss: 0.0021\n",
            "Epoch 197/200\n",
            "80/80 [==============================] - 0s 3ms/step - loss: 0.0024 - val_loss: 0.0033\n",
            "Epoch 198/200\n",
            "80/80 [==============================] - 0s 3ms/step - loss: 0.0024 - val_loss: 0.0031\n",
            "Epoch 199/200\n",
            "80/80 [==============================] - 0s 3ms/step - loss: 0.0022 - val_loss: 0.0021\n",
            "Epoch 200/200\n",
            "80/80 [==============================] - 0s 3ms/step - loss: 0.0023 - val_loss: 0.0025\n"
          ]
        }
      ]
    },
    {
      "cell_type": "markdown",
      "source": [
        "Let us see how predictions worked"
      ],
      "metadata": {
        "id": "eqHMSUkWc_xN"
      }
    },
    {
      "cell_type": "code",
      "source": [
        "plt.plot(history.history['loss'], label='loss')\n",
        "plt.plot(history.history['val_loss'], label = 'val_loss')\n",
        "plt.xlabel('Epoch')\n",
        "plt.ylabel('Accuracy')\n",
        "plt.yscale('log')\n",
        "#plt.ylim([0., 0.1])\n",
        "plt.legend(loc='best')"
      ],
      "metadata": {
        "colab": {
          "base_uri": "https://localhost:8080/",
          "height": 487
        },
        "id": "2ITePpNtdEN6",
        "outputId": "bc7afe6c-c2b4-4d45-d9bb-3692aecfb4c3"
      },
      "execution_count": 24,
      "outputs": [
        {
          "output_type": "execute_result",
          "data": {
            "text/plain": [
              "<matplotlib.legend.Legend at 0x79dac3b24df0>"
            ]
          },
          "metadata": {},
          "execution_count": 24
        },
        {
          "output_type": "display_data",
          "data": {
            "text/plain": [
              "<Figure size 640x480 with 1 Axes>"
            ],
            "image/png": "[encoded data removed]"
          },
          "metadata": {}
        }
      ]
    },
    {
      "cell_type": "markdown",
      "source": [
        "Let us see if we can now predict something"
      ],
      "metadata": {
        "id": "cI0u3VBcKtC2"
      }
    },
    {
      "cell_type": "code",
      "source": [
        "x_pred = df['x'].to_numpy()\n",
        "y_pred = model.predict(x_pred)"
      ],
      "metadata": {
        "colab": {
          "base_uri": "https://localhost:8080/"
        },
        "id": "W0CkjSjcp7WY",
        "outputId": "54b92c49-8c1d-48f2-aab7-526e32383f19"
      },
      "execution_count": null,
      "outputs": [
        {
          "output_type": "stream",
          "name": "stdout",
          "text": [
            "32/32 [==============================] - 0s 1ms/step\n"
          ]
        }
      ]
    },
    {
      "cell_type": "code",
      "source": [
        "def createTrainPredictPlots(train, test):\n",
        "  \"\"\"\n",
        "  plots the data from the train and test sets.\n",
        "\n",
        "  :param train: Required, dataframe with keys in [\"x\", \"gluon_cv\", \"gluon_sd\"].\n",
        "  :param test: Required, dataframe with keys in [\"x\", \"gluon_cv\", \"gluon_sd\"].\n",
        "  \"\"\"\n",
        "  fig, ax = plt.subplots(1,2,figsize=(10, 3))\n",
        "  #Train data\n",
        "  ax[0].axhline(0,color='k',linewidth=0.5)\n",
        "  ax[0].errorbar(train['x'], train['gluon_cv'], train['gluon_sd'], fmt = '.', color='b', alpha=0.05)\n",
        "  ax[0].set_title(\"Train  data\")\n",
        "  ax[0].set_xlabel(\"x\")\n",
        "  ax[0].set_ylabel(\"g(x)\")\n",
        "\n",
        "  # Predictions\n",
        "  x_pred = train['x'].to_numpy()\n",
        "  x_pred.sort()\n",
        "  y_pred = model.predict(x_pred).flatten()\n",
        "\n",
        "  ax[0].plot(x_pred, y_pred, color='b')\n",
        "\n",
        "  # Just predictions\n",
        "  ax[1].axhline(0,color='k',linewidth = 0.5)\n",
        "  #Test data\n",
        "  ax[1].errorbar(test['x'], test['gluon_cv'], test['gluon_sd'], fmt = '.', color='r', alpha=0.05)\n",
        "  #ax[1].set_ylim(-0.05,0.4)\n",
        "  ax[1].plot(x_pred, y_pred, color='b')\n",
        "  ax[1].set_title(\"Test data\")\n",
        "  ax[1].set_xlabel(\"x\")\n",
        "  ax[1].set_ylabel(\"g(x)\")\n",
        "  plt.show()"
      ],
      "metadata": {
        "id": "SHI6UAQ8Kyia"
      },
      "execution_count": 22,
      "outputs": []
    },
    {
      "cell_type": "code",
      "source": [
        "createTrainPredictPlots(df_train, df_test)"
      ],
      "metadata": {
        "colab": {
          "base_uri": "https://localhost:8080/",
          "height": 371
        },
        "id": "jCuvnt0dL1xc",
        "outputId": "a53e4417-ec72-48bc-c373-8381969bbc76"
      },
      "execution_count": 23,
      "outputs": [
        {
          "output_type": "stream",
          "name": "stdout",
          "text": [
            "25/25 [==============================] - 0s 2ms/step\n"
          ]
        },
        {
          "output_type": "display_data",
          "data": {
            "text/plain": [
              "<Figure size 1000x300 with 2 Axes>"
            ],
            "image/png": "[encoded data removed]"
          },
          "metadata": {}
        }
      ]
    },
    {
      "cell_type": "markdown",
      "source": [
        "\n",
        "\n",
        "---\n",
        "\n"
      ],
      "metadata": {
        "id": "qvl2MA2OW9Uv"
      }
    },
    {
      "cell_type": "code",
      "source": [],
      "metadata": {
        "id": "8JuUqZo8so4A"
      },
      "execution_count": null,
      "outputs": []
    }
  ]
}