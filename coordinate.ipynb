{
  "nbformat": 4,
  "nbformat_minor": 0,
  "metadata": {
    "colab": {
      "provenance": [],
      "authorship_tag": "ABX9TyNfaa/iTYiC5d151tclwqqD",
      "include_colab_link": true
    },
    "kernelspec": {
      "name": "python3",
      "display_name": "Python 3"
    },
    "language_info": {
      "name": "python"
    }
  },
  "cells": [
    {
      "cell_type": "markdown",
      "metadata": {
        "id": "view-in-github",
        "colab_type": "text"
      },
      "source": [
        "<a href=\"https://colab.research.google.com/github/prokudin/PSU_PHYS496/blob/master/coordinate.ipynb\" target=\"_parent\"><img src=\"https://colab.research.google.com/assets/colab-badge.svg\" alt=\"Open In Colab\"/></a>"
      ]
    },
    {
      "cell_type": "code",
      "execution_count": 29,
      "metadata": {
        "id": "0oM2fN-tq383"
      },
      "outputs": [],
      "source": [
        "class Coordinate(object):\n",
        "    def __init__(self,x,y):\n",
        "        self.x = x\n",
        "        self.y = y\n",
        "\n",
        "    def getX(self):\n",
        "        \"\"\"\n",
        "        Getter method for a Coordinate object's x coordinate.\n",
        "        Getter methods are better practice than just accessing an attribute directly\n",
        "        \"\"\"\n",
        "        return self.x\n",
        "\n",
        "    def getY(self):\n",
        "        \"\"\"\n",
        "        Getter method for a Coordinate object's y coordinate\n",
        "        \"\"\"\n",
        "        return self.y\n",
        "\n",
        "    def __str__(self):\n",
        "        return '<' + str(self.getX()) + ',' + str(self.getY()) + '>'\n",
        "\n",
        "    def __eq__(self, self1):\n",
        "        \"\"\"\n",
        "        Returns true if two instances oint to the same coordinates on a plane\n",
        "        \"\"\"\n",
        "        return (self.getX() == self1.getX() and self.getY() == self1.getY())\n",
        "        \n",
        "    def __repr__(self):\n",
        "        return \"Coordinate(%d, %d)\" % (self.x, self.y)\n",
        "        #return 'Coordinate(' + str(self.getX()) + ',' + str(self.getY()) + ')'"
      ]
    },
    {
      "cell_type": "code",
      "source": [
        "origin = Coordinate(0,0)"
      ],
      "metadata": {
        "id": "PZY7lGjfq5ai"
      },
      "execution_count": 30,
      "outputs": []
    },
    {
      "cell_type": "code",
      "source": [
        "repr(origin)"
      ],
      "metadata": {
        "colab": {
          "base_uri": "https://localhost:8080/",
          "height": 56
        },
        "id": "NkLLUjDIvKHj",
        "outputId": "b109d6f5-275d-43cc-ea02-b9e3b8141580"
      },
      "execution_count": 31,
      "outputs": [
        {
          "output_type": "execute_result",
          "data": {
            "text/plain": [
              "'Coordinate(0,0)'"
            ],
            "application/vnd.google.colaboratory.intrinsic+json": {
              "type": "string"
            }
          },
          "metadata": {},
          "execution_count": 31
        }
      ]
    },
    {
      "cell_type": "code",
      "source": [
        "origin.getX()"
      ],
      "metadata": {
        "colab": {
          "base_uri": "https://localhost:8080/"
        },
        "id": "quqMwfrVrAwQ",
        "outputId": "85eed65b-65ad-4375-c0f7-1b0c7b0f27f5"
      },
      "execution_count": 9,
      "outputs": [
        {
          "output_type": "execute_result",
          "data": {
            "text/plain": [
              "0"
            ]
          },
          "metadata": {},
          "execution_count": 9
        }
      ]
    },
    {
      "cell_type": "code",
      "source": [
        "print(origin)"
      ],
      "metadata": {
        "colab": {
          "base_uri": "https://localhost:8080/"
        },
        "id": "39whOoaerBu2",
        "outputId": "883630fc-7c8e-4d68-c7bd-37b6ab488176"
      },
      "execution_count": 10,
      "outputs": [
        {
          "output_type": "stream",
          "name": "stdout",
          "text": [
            "<0,0>\n"
          ]
        }
      ]
    },
    {
      "cell_type": "code",
      "source": [
        "pointA = Coordinate(1,1)"
      ],
      "metadata": {
        "id": "zMjF1juFroyX"
      },
      "execution_count": 21,
      "outputs": []
    },
    {
      "cell_type": "code",
      "source": [
        "pointA == origin"
      ],
      "metadata": {
        "colab": {
          "base_uri": "https://localhost:8080/"
        },
        "id": "vJSsQuYNsDrs",
        "outputId": "a4a0b2aa-1c0b-451b-b17e-4ffe6368c030"
      },
      "execution_count": 22,
      "outputs": [
        {
          "output_type": "execute_result",
          "data": {
            "text/plain": [
              "False"
            ]
          },
          "metadata": {},
          "execution_count": 22
        }
      ]
    },
    {
      "cell_type": "code",
      "source": [
        "pointB = Coordinate(1,1)"
      ],
      "metadata": {
        "id": "pnjfepQ1sHYo"
      },
      "execution_count": 23,
      "outputs": []
    },
    {
      "cell_type": "code",
      "source": [
        "pointA == pointB"
      ],
      "metadata": {
        "colab": {
          "base_uri": "https://localhost:8080/"
        },
        "id": "oTF3Mlcot2lb",
        "outputId": "84a2e173-1272-48f0-e38d-3dfb91739ce7"
      },
      "execution_count": 24,
      "outputs": [
        {
          "output_type": "execute_result",
          "data": {
            "text/plain": [
              "True"
            ]
          },
          "metadata": {},
          "execution_count": 24
        }
      ]
    },
    {
      "cell_type": "code",
      "source": [],
      "metadata": {
        "id": "Tyed4q9xt5Yx"
      },
      "execution_count": null,
      "outputs": []
    }
  ]
}