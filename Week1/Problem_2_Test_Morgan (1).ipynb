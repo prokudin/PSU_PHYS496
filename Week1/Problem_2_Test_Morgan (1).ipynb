{
  "nbformat": 4,
  "nbformat_minor": 0,
  "metadata": {
    "colab": {
      "provenance": []
    },
    "kernelspec": {
      "name": "python3",
      "display_name": "Python 3"
    },
    "language_info": {
      "name": "python"
    }
  },
  "cells": [
    {
      "cell_type": "markdown",
      "source": [
        "# Problem 2"
      ],
      "metadata": {
        "id": "I6xZT1WKUjlt"
      }
    },
    {
      "cell_type": "markdown",
      "source": [
        "Assume s is a string of lower case characters.\n",
        "\n",
        "Write a program that prints the number of times the string 'bob' occurs in s. For example, if s = 'azcbobobegghakl', then your program should print\n",
        "\n",
        "Number of times bob occurs is: 2"
      ],
      "metadata": {
        "id": "GpE-e1vkUnHQ"
      }
    },
    {
      "cell_type": "markdown",
      "source": [
        "# Solution"
      ],
      "metadata": {
        "id": "6gEtTdg1UqAQ"
      }
    },
    {
      "cell_type": "code",
      "source": [
        "s = 'azcbobobegghakl'\n",
        "\n",
        "bob = 'bob'\n",
        "numbob = 0\n",
        "for i in range(len(s)):\n",
        "  if s[i:i+3] == bob:\n",
        "    numbob += 1\n",
        "print('Number of times bob occures is:', numbob)"
      ],
      "metadata": {
        "id": "J68dZm3JUyuL"
      },
      "execution_count": null,
      "outputs": []
    },
    {
      "cell_type": "markdown",
      "source": [
        "# Check"
      ],
      "metadata": {
        "id": "jGmI9o-LUsJ4"
      }
    },
    {
      "cell_type": "code",
      "source": [
        "def NumberBobFunction(s):\n",
        "  # Paste your code here to test\n",
        "  # Defines your code so it can be used in the testing function\n",
        "\n",
        "  bob = 'bob'\n",
        "  numbob = 0\n",
        "  for i in range(len(s)):\n",
        "    if s[i:i+3] == bob:\n",
        "      numbob += 1\n",
        "  return numbob"
      ],
      "metadata": {
        "id": "XkWRRCA1Ulfc"
      },
      "execution_count": 14,
      "outputs": []
    },
    {
      "cell_type": "code",
      "source": [
        "def CheckBob(s, expected):\n",
        "  \"\"\"\n",
        "  Compares the output of the user's function NumberBobFunction to the expected output \"expected\"\n",
        "  \"\"\"\n",
        "\n",
        "  print('s = ', s)                                     # Prints the s value used from the dictionary\n",
        "  numbob = NumberBobFunction(s)                        # Invokes the users funtion through the function NumberBobFUnction\n",
        "  print('Number of times bob occures is:', numbob)     # Prints user's answer\n",
        "  \n",
        "  if numbob == expected:                               # If the user's answer is correct, print correct and try next s value\n",
        "    print('Correct')\n",
        "    return True\n",
        "  else:                                                # If user's answer is wrong, print their answer, print correct answer, and try next s value\n",
        "    print('Your output:', numbob)\n",
        "    print('Expected is:', expected)\n",
        "    print('Incorrect')\n",
        "    return False\n",
        "# CheckBob Function ends here\n",
        "\n",
        "# This section runs your function through CheckBob using a dictionary of s values\n",
        "# Below is a dictionary of strings and output values for s\n",
        "s = {'azcbobobegghakl': 2, 'bobobaobobobbobslboboboboboobxbobobbobbboobobbfy': 13, 'cbobbbeoboovu': 1, 'obobbkboboobbobobbborob': 4, 'obobbbfxo': 1, 'oexobobopbob': 2, 'fooboboobobbboob': 2, 'boobryxxobbbob': 1}\n",
        "\n",
        "for key in s.keys():             # Pulls the keys from the S dictionary (the output number value)\n",
        "  if CheckBob(key, s[key]):      # Runs the keys through CheckBob and returns true/false based on the user's answer\n",
        "    print(True)    "
      ],
      "metadata": {
        "id": "0CyWPV67XYRg"
      },
      "execution_count": null,
      "outputs": []
    },
    {
      "cell_type": "code",
      "source": [],
      "metadata": {
        "id": "cP_oxYhI0UMp"
      },
      "execution_count": null,
      "outputs": []
    }
  ]
}