{
  "cells": [
    {
      "cell_type": "markdown",
      "metadata": {
        "id": "sboyXnJ8pNcO"
      },
      "source": [
        "Problem 2\n",
        " \n",
        "Assume s is a string of lower case characters.\n",
        "\n",
        "Write a program that prints the number of times the string 'bob' occurs in s. For example, if s = 'azcbobobegghakl', then your program should print\n",
        "\n",
        "Number of times bob occurs is: 2"
      ]
    },
    {
      "cell_type": "code",
      "execution_count": 17,
      "metadata": {
        "collapsed": true,
        "id": "V-xKlljopNcT",
        "outputId": "0cecd9ce-3d2f-4292-a6bb-436fc608fed3",
        "colab": {
          "base_uri": "https://localhost:8080/"
        }
      },
      "outputs": [
        {
          "output_type": "stream",
          "name": "stdout",
          "text": [
            "Number of times bob occurs is 2\n"
          ]
        }
      ],
      "source": [
        "s = 'aozcbbobeggbobhakl'\n",
        "bob = 'bob'\n",
        "len_bob = len(bob)\n",
        "count = 0\n",
        "\n",
        "for i in range(len(s)- len_bob + 1):\n",
        "  if s[i] == bob[0] and s[i+1] == bob[1] and s[i+2] == bob[2]:\n",
        "  #if s[i:i + len_bob] == bob:\n",
        "    count += 1\n",
        "\n",
        "print('Number of times ' + bob + ' occurs is ' + str(count))    \n"
      ]
    },
    {
      "cell_type": "code",
      "source": [
        "bob[0]"
      ],
      "metadata": {
        "id": "lPEqz44dpiGr",
        "outputId": "5c517352-d837-4041-c71d-b3fa4cfc5ce1",
        "colab": {
          "base_uri": "https://localhost:8080/",
          "height": 56
        }
      },
      "execution_count": 18,
      "outputs": [
        {
          "output_type": "execute_result",
          "data": {
            "text/plain": [
              "'b'"
            ],
            "application/vnd.google.colaboratory.intrinsic+json": {
              "type": "string"
            }
          },
          "metadata": {},
          "execution_count": 18
        }
      ]
    },
    {
      "cell_type": "code",
      "source": [],
      "metadata": {
        "id": "Qx_K0m3vq-jU"
      },
      "execution_count": null,
      "outputs": []
    }
  ],
  "metadata": {
    "anaconda-cloud": {},
    "kernelspec": {
      "display_name": "Python [default]",
      "language": "python",
      "name": "python2"
    },
    "language_info": {
      "codemirror_mode": {
        "name": "ipython",
        "version": 2
      },
      "file_extension": ".py",
      "mimetype": "text/x-python",
      "name": "python",
      "nbconvert_exporter": "python",
      "pygments_lexer": "ipython2",
      "version": "2.7.12"
    },
    "colab": {
      "provenance": []
    }
  },
  "nbformat": 4,
  "nbformat_minor": 0
}