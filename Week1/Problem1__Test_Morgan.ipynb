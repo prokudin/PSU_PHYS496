{
  "nbformat": 4,
  "nbformat_minor": 0,
  "metadata": {
    "colab": {
      "provenance": []
    },
    "kernelspec": {
      "name": "python3",
      "display_name": "Python 3"
    },
    "language_info": {
      "name": "python"
    }
  },
  "cells": [
    {
      "cell_type": "markdown",
      "source": [
        "#Problem 1"
      ],
      "metadata": {
        "id": "7j2Cr0OnPDYS"
      }
    },
    {
      "cell_type": "markdown",
      "source": [
        "Assume s is a string of lower case characters.\n",
        "\n",
        "Write a program that counts up the number of vowels contained in the string s. Valid vowels are: 'a', 'e', 'i', 'o', and 'u'. For example, if s = 'azcbobobegghakl', your program should print:\n",
        "\n",
        "Number of vowels: 5"
      ],
      "metadata": {
        "id": "vf1lYfO5PHzn"
      }
    },
    {
      "cell_type": "markdown",
      "source": [
        "# Solution"
      ],
      "metadata": {
        "id": "KSahAY4RPRza"
      }
    },
    {
      "cell_type": "code",
      "source": [
        "s = 'azcbobobegghakl'\n",
        "numvowels=0\n",
        "for iteration in range(len(s)):\n",
        "  if s[iteration] == 'a' or s[iteration] == 'i'or s[iteration] == 'o' or s[iteration] == 'e' or s[iteration] == 'u':\n",
        "    numvowels=numvowels+1\n",
        "print('Number of vowels:',numvowels) "
      ],
      "metadata": {
        "id": "QQ--zr3NPXI3"
      },
      "execution_count": null,
      "outputs": []
    },
    {
      "cell_type": "code",
      "source": [
        "s = 'azcbobobegghakl'\n",
        "vowels = 'aeiou'\n",
        "numvowels = 0\n",
        "for letter in s:\n",
        "   if letter in vowels:\n",
        "    numvowels += 1\n",
        "print('Number of vowels is:', numvowels)"
      ],
      "metadata": {
        "id": "tPpG2HNPQK3S"
      },
      "execution_count": null,
      "outputs": []
    },
    {
      "cell_type": "markdown",
      "source": [
        "# Check"
      ],
      "metadata": {
        "id": "L4XTLtqUPTTj"
      }
    },
    {
      "cell_type": "code",
      "source": [
        "def NumberVowelsFunction(s):\n",
        "  # Paste your code into this box to test\n",
        "  # Defines your code as a function so it can be used within a checking function\n",
        " \n",
        "  vowels = 'aeiou'\n",
        "  numvowels = 0\n",
        "  for letter in s:\n",
        "    if letter in vowels:\n",
        "      numvowels += 1\n",
        "  return numvowels"
      ],
      "metadata": {
        "id": "CFNsOPS9Q982"
      },
      "execution_count": null,
      "outputs": []
    },
    {
      "cell_type": "code",
      "source": [
        "def Check(s, expected):\n",
        "  # The checking function used to test the user's function in NumberVowelsFunction\n",
        "  \"\"\"\n",
        "  Compares the output of the user's function NumberVowelsFunction to the expected output \"expected\"\n",
        "  \"\"\"\n",
        "\n",
        "  print('s = ', s)\n",
        "  numvowels = NumberVowelsFunction(s)\n",
        "  print('Number of vowels is:', numvowels)\n",
        "  if numvowels == expected:\n",
        "    print('Correct')\n",
        "    return True\n",
        "  else:\n",
        "    #NumberVowelsFunction(s)\n",
        "    print('Your output:', numvowels)\n",
        "    print('Expected is:', expected)\n",
        "    return False"
      ],
      "metadata": {
        "id": "cJf3paNFRipl"
      },
      "execution_count": null,
      "outputs": []
    },
    {
      "cell_type": "code",
      "source": [
        "# This section runs your function through Check using a dictionary of s values\n",
        "# You can use Check by itself to validate your code or you can use the following to check it many times\n",
        "\n",
        "s = {'azcbobobegghakl': 5, 'ykkfedxsvtwpstpniyeiupst': 5, 'joaketelunuevidbweikceh': 11, 'gijgbtlfyqyeclbboh': 3}\n",
        "\n",
        "for key in s.keys():\n",
        "  if Check(key, s[key]):\n",
        "    print(True)"
      ],
      "metadata": {
        "id": "hMU95UpthDOv"
      },
      "execution_count": null,
      "outputs": []
    }
  ]
}