{
  "cells": [
    {
      "cell_type": "markdown",
      "metadata": {
        "id": "ao2gMmyVg0WR"
      },
      "source": [
        "Problem 1\n",
        "\n",
        "Assume s is a string of lower case characters.\n",
        "\n",
        "Write a program that counts up the number of vowels contained in the string s. Valid vowels are: 'a', 'e', 'i', 'o', and 'u'. For example, if s = 'azcbobobegghakl', your program should print:\n",
        "\n",
        "Number of vowels: 5"
      ]
    },
    {
      "cell_type": "markdown",
      "source": [
        "Test cases:\n",
        "\n",
        "\n",
        "INCORRECT Hide outputHide output\n",
        "s = 'ykkfedxsvtwpstpniyeiupst'\n",
        "Your output:\n",
        "Number of vowels = 10\n",
        "\n",
        "\n",
        "*** ERROR: Expected 5, got 10. ***\n",
        "Correct output:\n",
        "Number of vowels:  5\n",
        "\n",
        "s = 'joaketelunuevidbweikceh'\n",
        "Your output:\n",
        "Number of vowels = 22\n",
        "\n",
        "\n",
        "*** ERROR: Expected 11, got 22. ***\n",
        "Correct output:\n",
        "Number of vowels:  11\n",
        "\n",
        "s = 'gijgbtlfyqyeclbboh'\n",
        "Your output:\n",
        "Number of vowels = 6\n",
        "\n",
        "\n",
        "*** ERROR: Expected 3, got 6. ***\n",
        "Correct output:\n",
        "Number of vowels:  3\n",
        "\n",
        "s = 'twumhwljlndinzcggtsetrxc'\n",
        "Your output:\n",
        "Number of vowels = 6\n",
        "\n",
        "\n",
        "*** ERROR: Expected 3, got 6. ***\n",
        "Correct output:\n",
        "Number of vowels:  3\n",
        "\n",
        "s = 'rryqlquberuziiqegixnlh'\n",
        "Your output:\n",
        "Number of vowels = 14\n",
        "\n",
        "\n",
        "*** ERROR: Expected 7, got 14. ***\n",
        "Correct output:\n",
        "Number of vowels:  7\n",
        "\n",
        "s = 'eimzbdlmffouzbcufdkici'\n",
        "Your output:\n",
        "Number of vowels = 14\n",
        "\n",
        "\n",
        "*** ERROR: Expected 7, got 14. ***\n",
        "Correct output:\n",
        "Number of vowels:  7\n",
        "\n",
        "s = 'jknnunynwhkuez'\n",
        "Your output:\n",
        "Number of vowels = 6\n",
        "\n",
        "\n",
        "*** ERROR: Expected 3, got 6. ***\n",
        "Correct output:\n",
        "Number of vowels:  3\n",
        "\n",
        "s = 'vtowruubkquiadbgqqd'\n",
        "Your output:\n",
        "Number of vowels = 12\n",
        "\n",
        "\n",
        "*** ERROR: Expected 6, got 12. ***\n",
        "Correct output:\n",
        "Number of vowels:  6\n",
        "\n",
        "s = 'kiuvqbii'\n",
        "Your output:\n",
        "Number of vowels = 8\n",
        "\n",
        "\n",
        "*** ERROR: Expected 4, got 8. ***\n",
        "Correct output:\n",
        "Number of vowels:  4\n",
        "\n",
        "s = 'nehxtwmhnsaapxopcazfel'\n",
        "Your output:\n",
        "Number of vowels = 12\n",
        "\n",
        "\n",
        "*** ERROR: Expected 6, got 12. ***\n",
        "Correct output:\n",
        "Number of vowels:  6\n",
        "\n",
        "s = 'umzuixja'\n",
        "Your output:\n",
        "Number of vowels = 8\n",
        "\n",
        "\n",
        "*** ERROR: Expected 4, got 8. ***\n",
        "Correct output:\n",
        "Number of vowels:  4\n",
        "\n",
        "s = 'jqezodczexepedtrcvmoj'\n",
        "Your output:\n",
        "Number of vowels = 12\n",
        "\n",
        "\n",
        "*** ERROR: Expected 6, got 12. ***\n",
        "Correct output:\n",
        "Number of vowels:  6\n",
        "\n",
        "s = 'cenwpeyor'\n",
        "Your output:\n",
        "Number of vowels = 6\n",
        "\n",
        "\n",
        "*** ERROR: Expected 3, got 6. ***\n",
        "Correct output:\n",
        "Number of vowels:  3\n",
        "\n",
        "s = 'bohefsueoawnanarpig'\n",
        "Your output:\n",
        "Number of vowels = 18\n",
        "\n",
        "\n",
        "*** ERROR: Expected 9, got 18. ***\n",
        "Correct output:\n",
        "Number of vowels:  9\n",
        "\n",
        "s = 'ykcamirbmcuaql'\n",
        "Your output:\n",
        "Number of vowels = 8\n",
        "\n",
        "\n",
        "*** ERROR: Expected 4, got 8. ***\n",
        "Correct output:\n",
        "Number of vowels:  4\n",
        "\n",
        "s = 'gjyoejdhsepbb'\n",
        "Your output:\n",
        "Number of vowels = 6\n",
        "\n",
        "\n",
        "*** ERROR: Expected 3, got 6. ***\n",
        "Correct output:\n",
        "Number of vowels:  3\n",
        "\n",
        "s = 'skgusleeefgfoeuhuycuo'\n",
        "Your output:\n",
        "Number of vowels = 20\n",
        "\n",
        "\n",
        "*** ERROR: Expected 10, got 20. ***\n",
        "Correct output:\n",
        "Number of vowels:  10\n",
        "\n",
        "s = 'piijxmxldajnukdmjpxwoob'\n",
        "Your output:\n",
        "Number of vowels = 12\n",
        "\n",
        "\n",
        "*** ERROR: Expected 6, got 12. ***\n",
        "Correct output:\n",
        "Number of vowels:  6\n",
        "\n",
        "s = 'tohhaztghvybiuv'\n",
        "Your output:\n",
        "Number of vowels = 8\n",
        "\n",
        "\n",
        "*** ERROR: Expected 4, got 8. ***\n",
        "Correct output:\n",
        "Number of vowels:  4\n",
        "\n",
        "s = 'aujloazirzeklseukuhc'\n",
        "Your output:\n",
        "Number of vowels = 18\n",
        "\n",
        "\n",
        "*** ERROR: Expected 9, got 18. ***\n",
        "Correct output:\n",
        "Number of vowels:  9\n",
        "\n"
      ],
      "metadata": {
        "id": "iUTRiRPES7Hm"
      }
    },
    {
      "cell_type": "code",
      "execution_count": null,
      "metadata": {
        "collapsed": true,
        "id": "IgXChkybg0WZ",
        "outputId": "87355d40-bb6c-44a7-e3ac-016f2681cf40",
        "colab": {
          "base_uri": "https://localhost:8080/"
        }
      },
      "outputs": [
        {
          "output_type": "stream",
          "name": "stdout",
          "text": [
            "Hello World!\n"
          ]
        }
      ],
      "source": [
        "print(\"Hello World!\")"
      ]
    },
    {
      "cell_type": "code",
      "source": [
        "vowels =  'aeiou'"
      ],
      "metadata": {
        "id": "6HYZLchSg4Po"
      },
      "execution_count": null,
      "outputs": []
    },
    {
      "cell_type": "code",
      "source": [
        "s = 'azcbobobegghakl'"
      ],
      "metadata": {
        "id": "jL3rIGzXhXO-"
      },
      "execution_count": null,
      "outputs": []
    },
    {
      "cell_type": "code",
      "source": [
        "numberVowels = 0\n",
        "\n",
        "for letter in s:\n",
        "  if letter in vowels:\n",
        "    numberVowels += 1\n",
        "    \n",
        "print('Number of vowels =', numberVowels)    "
      ],
      "metadata": {
        "id": "FlZJSdBShZlQ",
        "outputId": "028b2132-0e3f-4bda-ab80-547d8238d81f",
        "colab": {
          "base_uri": "https://localhost:8080/"
        }
      },
      "execution_count": null,
      "outputs": [
        {
          "output_type": "stream",
          "name": "stdout",
          "text": [
            "Number of vowels = 5\n"
          ]
        }
      ]
    },
    {
      "cell_type": "code",
      "source": [
        "s[0]"
      ],
      "metadata": {
        "id": "88FK-8aYpE73",
        "outputId": "9cd6ce0d-d28a-4717-8c1e-a0efb9db078e",
        "colab": {
          "base_uri": "https://localhost:8080/",
          "height": 35
        }
      },
      "execution_count": null,
      "outputs": [
        {
          "output_type": "execute_result",
          "data": {
            "text/plain": [
              "'t'"
            ],
            "application/vnd.google.colaboratory.intrinsic+json": {
              "type": "string"
            }
          },
          "metadata": {},
          "execution_count": 58
        }
      ]
    },
    {
      "cell_type": "markdown",
      "source": [
        "CORRECT Hide outputHide output\n",
        "s = 'tapkropsmrzlky'\n",
        "Output:\n",
        "Number of vowels = 2\n",
        "\n",
        "s = 'hnwqnehsnzyiouaowh'\n",
        "Output:\n",
        "Number of vowels = 6\n",
        "\n",
        "s = 'vdeepecksq'\n",
        "Output:\n",
        "Number of vowels = 3\n",
        "\n",
        "s = 'jmouqaxgbrysmchm'\n",
        "Output:\n",
        "Number of vowels = 3\n",
        "\n",
        "s = 'omwanos'\n",
        "Output:\n",
        "Number of vowels = 3\n",
        "\n",
        "s = 'wjhzcahtmojhrioieaegx'\n",
        "Output:\n",
        "Number of vowels = 8\n",
        "\n",
        "s = 'butopaoo'\n",
        "Output:\n",
        "Number of vowels = 5\n",
        "\n",
        "s = 'fgpsxyafo'\n",
        "Output:\n",
        "Number of vowels = 2\n",
        "\n",
        "s = 'rsmlaldnandkuo'\n",
        "Output:\n",
        "Number of vowels = 4\n",
        "\n",
        "s = 'xtpluwu'\n",
        "Output:\n",
        "Number of vowels = 2\n",
        "\n",
        "s = 'nbadbeaiabuanglewpji'\n",
        "Output:\n",
        "Number of vowels = 9\n",
        "\n",
        "s = 'abeddm'\n",
        "Output:\n",
        "Number of vowels = 2\n",
        "\n",
        "s = 'ijyqpjle'\n",
        "Output:\n",
        "Number of vowels = 2\n",
        "\n",
        "s = 'wbnwle'\n",
        "Output:\n",
        "Number of vowels = 1\n",
        "\n",
        "s = 'gelvqfsforavxfjfvemluqky'\n",
        "Output:\n",
        "Number of vowels = 5\n",
        "\n",
        "s = 'uexgjxevidqseihitkiuta'\n",
        "Output:\n",
        "Number of vowels = 10\n",
        "\n",
        "s = 'ipsxjd'\n",
        "Output:\n",
        "Number of vowels = 1\n",
        "\n",
        "s = 'kecenysobsuqaig'\n",
        "Output:\n",
        "Number of vowels = 6\n",
        "\n",
        "s = 'mcyoohepzptuejcxuyevcf'\n",
        "Output:\n",
        "Number of vowels = 7\n",
        "\n",
        "s = 'etsfjkpopttpxzipdjioviz'\n",
        "Output:\n",
        "Number of vowels = 6\n",
        "\n",
        "Important\n",
        "Only hit \"Submit\" once per submission. You only get 30 checks per problem.\n",
        "If you believe you have correct code but it is marked incorrect after clicking \"Check\"...\n",
        "\"Staff Debug: L397 Error\" means your code has an infinite loop...\n",
        "Do not define your own values\n",
        " Save Save your answer\n",
        "Submit\n",
        "You have used 2 of 30 attempts Some problems have options such as save, reset, hints, or show answer. These options follow the Submit button.\n",
        "Correct (10/10 points)\n"
      ],
      "metadata": {
        "id": "zwgPr8Bsisvl"
      }
    },
    {
      "cell_type": "code",
      "source": [
        "def numberVowelsFunction(s):\n",
        "# Paste your code into this box \n",
        "  vowels =  'aeiou'\n",
        "  numberVowels = 0\n",
        "\n",
        "  for letter in s:\n",
        "    if letter in vowels:\n",
        "      numberVowels += 1\n",
        "    \n",
        "  return 'Number of vowels = ' + str(numberVowels)"
      ],
      "metadata": {
        "id": "Lzjf99YLhoTH"
      },
      "execution_count": null,
      "outputs": []
    },
    {
      "cell_type": "code",
      "source": [
        "s = 'tapkropsmrzlky'\n",
        "numberVowelsFunction(s)"
      ],
      "metadata": {
        "id": "FYBXTVLxjQUd",
        "outputId": "34f25e86-7658-404e-d500-86c2c5163c9b",
        "colab": {
          "base_uri": "https://localhost:8080/",
          "height": 35
        }
      },
      "execution_count": null,
      "outputs": [
        {
          "output_type": "execute_result",
          "data": {
            "text/plain": [
              "'Number of vowels = 2'"
            ],
            "application/vnd.google.colaboratory.intrinsic+json": {
              "type": "string"
            }
          },
          "metadata": {},
          "execution_count": 28
        }
      ]
    },
    {
      "cell_type": "code",
      "source": [
        "# Case testing\n",
        "def TestCase(s, expected):\n",
        "  \"\"\"\n",
        "  This one compares the output of the user's function numberVowelsFunction(s) and the expected output \"expected\"\n",
        "  \"\"\"\n",
        "  print('s = ', s)\n",
        "  if numberVowelsFunction(s) == expected:\n",
        "    print('Correct')\n",
        "    return True\n",
        "  else:\n",
        "    numberVowelsFunction(s)\n",
        "    print('Your output:', numberVowelsFunction(s)) \n",
        "    print('Expected is:', expected)\n",
        "    return False "
      ],
      "metadata": {
        "id": "ilfWVE9tjWP2"
      },
      "execution_count": null,
      "outputs": []
    },
    {
      "cell_type": "code",
      "source": [
        "TestCase(s, 'Number of vowels = 2')"
      ],
      "metadata": {
        "id": "qXRHQPwCkBOv",
        "outputId": "904fae62-e377-45fb-c514-984fbf2e6723",
        "colab": {
          "base_uri": "https://localhost:8080/"
        }
      },
      "execution_count": null,
      "outputs": [
        {
          "output_type": "stream",
          "name": "stdout",
          "text": [
            "s =  tapkropsmrzlky\n",
            "Correct\n"
          ]
        },
        {
          "output_type": "execute_result",
          "data": {
            "text/plain": [
              "True"
            ]
          },
          "metadata": {},
          "execution_count": 32
        }
      ]
    },
    {
      "cell_type": "code",
      "source": [
        "tests = {'tapkropsmrzlky': 'Number of vowels = 2', 'joaketelunuevidbweikceh': 'Number of vowels = 11'}"
      ],
      "metadata": {
        "id": "bhqPmVBBkonZ"
      },
      "execution_count": null,
      "outputs": []
    },
    {
      "cell_type": "code",
      "source": [
        "tests"
      ],
      "metadata": {
        "id": "4Y3HnXSQl4p6",
        "outputId": "b621e85b-c65e-41e7-9ea7-9016c1a3f704",
        "colab": {
          "base_uri": "https://localhost:8080/"
        }
      },
      "execution_count": null,
      "outputs": [
        {
          "output_type": "execute_result",
          "data": {
            "text/plain": [
              "{'tapkropsmrzlky': 'Number of vowels = 2'}"
            ]
          },
          "metadata": {},
          "execution_count": 35
        }
      ]
    },
    {
      "cell_type": "code",
      "source": [
        "tests.keys()"
      ],
      "metadata": {
        "id": "rkNJvPP_l8EC",
        "outputId": "12a42995-0979-41cf-cc0a-0ba244648da0",
        "colab": {
          "base_uri": "https://localhost:8080/"
        }
      },
      "execution_count": null,
      "outputs": [
        {
          "output_type": "execute_result",
          "data": {
            "text/plain": [
              "dict_keys(['tapkropsmrzlky'])"
            ]
          },
          "metadata": {},
          "execution_count": 36
        }
      ]
    },
    {
      "cell_type": "code",
      "source": [
        "for key in tests.keys():\n",
        "  if not TestCase(key, tests[key]):\n",
        "      print('Incorrect')\n"
      ],
      "metadata": {
        "id": "xgM2qq5vl9k3",
        "outputId": "51b3cf6d-c2cc-4837-f9cf-d2e16e450d52",
        "colab": {
          "base_uri": "https://localhost:8080/"
        }
      },
      "execution_count": null,
      "outputs": [
        {
          "output_type": "stream",
          "name": "stdout",
          "text": [
            "s =  tapkropsmrzlky\n",
            "Correct\n",
            "s =  joaketelunuevidbweikceh\n",
            "Your output: Number of vowels = 11\n",
            "Expected is: Number of vowels = 22\n",
            "Incorrect\n"
          ]
        }
      ]
    },
    {
      "cell_type": "code",
      "source": [
        "def sum(x,y):\n",
        "  \"\"\"\n",
        "  Return the sum of x and y\n",
        "  \"\"\"\n",
        "  return x + y"
      ],
      "metadata": {
        "id": "2uK1n7-_mDcF"
      },
      "execution_count": null,
      "outputs": []
    },
    {
      "cell_type": "code",
      "source": [
        "sum(2,3)"
      ],
      "metadata": {
        "id": "Iy_mVVymnpSR",
        "outputId": "3861659f-eb90-4d79-ee99-af6b5ad6fdbb",
        "colab": {
          "base_uri": "https://localhost:8080/"
        }
      },
      "execution_count": null,
      "outputs": [
        {
          "output_type": "execute_result",
          "data": {
            "text/plain": [
              "5"
            ]
          },
          "metadata": {},
          "execution_count": 46
        }
      ]
    },
    {
      "cell_type": "code",
      "source": [
        "def TestSum(x,y):\n",
        "  if sum(x,y) == x+y:\n",
        "    return True\n",
        "  else:\n",
        "    return False  \n"
      ],
      "metadata": {
        "id": "OYdhP-cGnqfv"
      },
      "execution_count": null,
      "outputs": []
    },
    {
      "cell_type": "code",
      "source": [
        "TestSum(0,0)"
      ],
      "metadata": {
        "id": "oruLkud5n2oH",
        "outputId": "9bfe83d4-5a1d-4109-def6-54ae4f23512a",
        "colab": {
          "base_uri": "https://localhost:8080/"
        }
      },
      "execution_count": null,
      "outputs": [
        {
          "output_type": "execute_result",
          "data": {
            "text/plain": [
              "True"
            ]
          },
          "metadata": {},
          "execution_count": 48
        }
      ]
    },
    {
      "cell_type": "code",
      "source": [
        "TestSum(0,10)"
      ],
      "metadata": {
        "id": "o4tMW1dYn6BM",
        "outputId": "c411a2f2-90e1-4d5e-caf1-b691c68f5aed",
        "colab": {
          "base_uri": "https://localhost:8080/"
        }
      },
      "execution_count": null,
      "outputs": [
        {
          "output_type": "execute_result",
          "data": {
            "text/plain": [
              "True"
            ]
          },
          "metadata": {},
          "execution_count": 49
        }
      ]
    },
    {
      "cell_type": "code",
      "source": [
        "TestSum(1,0)"
      ],
      "metadata": {
        "id": "oNFBs4PGn78F",
        "outputId": "b1975265-f2f9-4bc6-8f4f-cc1a94e92555",
        "colab": {
          "base_uri": "https://localhost:8080/"
        }
      },
      "execution_count": null,
      "outputs": [
        {
          "output_type": "execute_result",
          "data": {
            "text/plain": [
              "True"
            ]
          },
          "metadata": {},
          "execution_count": 50
        }
      ]
    },
    {
      "cell_type": "code",
      "source": [
        "TestSum(-1,3)"
      ],
      "metadata": {
        "id": "xDR6B89on9QG",
        "outputId": "bcb5d93b-115d-450d-c5e8-f5c7e31a3012",
        "colab": {
          "base_uri": "https://localhost:8080/"
        }
      },
      "execution_count": null,
      "outputs": [
        {
          "output_type": "execute_result",
          "data": {
            "text/plain": [
              "True"
            ]
          },
          "metadata": {},
          "execution_count": 51
        }
      ]
    },
    {
      "cell_type": "code",
      "source": [
        "TestSum(1000000,200000)"
      ],
      "metadata": {
        "id": "COwZAaxnn-nH",
        "outputId": "2726e3f8-e384-4459-821f-6d1ff7e6a344",
        "colab": {
          "base_uri": "https://localhost:8080/"
        }
      },
      "execution_count": null,
      "outputs": [
        {
          "output_type": "execute_result",
          "data": {
            "text/plain": [
              "True"
            ]
          },
          "metadata": {},
          "execution_count": 52
        }
      ]
    },
    {
      "cell_type": "code",
      "source": [
        "TestSum(0.0001,0.0003)"
      ],
      "metadata": {
        "id": "PMxpUNL6oBTU",
        "outputId": "d8814435-b925-4d12-baba-8881cc66c1f9",
        "colab": {
          "base_uri": "https://localhost:8080/"
        }
      },
      "execution_count": null,
      "outputs": [
        {
          "output_type": "execute_result",
          "data": {
            "text/plain": [
              "True"
            ]
          },
          "metadata": {},
          "execution_count": 53
        }
      ]
    },
    {
      "cell_type": "code",
      "source": [
        "numberVowelsFunction('')"
      ],
      "metadata": {
        "id": "4sG2a78IoDEr",
        "outputId": "5c902b78-f608-452b-d7a5-72bf516f979a",
        "colab": {
          "base_uri": "https://localhost:8080/",
          "height": 35
        }
      },
      "execution_count": null,
      "outputs": [
        {
          "output_type": "execute_result",
          "data": {
            "text/plain": [
              "'Number of vowels = 0'"
            ],
            "application/vnd.google.colaboratory.intrinsic+json": {
              "type": "string"
            }
          },
          "metadata": {},
          "execution_count": 54
        }
      ]
    },
    {
      "cell_type": "code",
      "source": [],
      "metadata": {
        "id": "q0XfxpzPocmB"
      },
      "execution_count": null,
      "outputs": []
    }
  ],
  "metadata": {
    "anaconda-cloud": {},
    "kernelspec": {
      "display_name": "Python [default]",
      "language": "python",
      "name": "python2"
    },
    "language_info": {
      "codemirror_mode": {
        "name": "ipython",
        "version": 2
      },
      "file_extension": ".py",
      "mimetype": "text/x-python",
      "name": "python",
      "nbconvert_exporter": "python",
      "pygments_lexer": "ipython2",
      "version": "2.7.12"
    },
    "colab": {
      "provenance": []
    }
  },
  "nbformat": 4,
  "nbformat_minor": 0
}