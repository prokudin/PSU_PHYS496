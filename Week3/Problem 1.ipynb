{
  "cells": [
    {
      "cell_type": "markdown",
      "metadata": {
        "id": "FopWpIH7pNII"
      },
      "source": [
        "Problem 1\n",
        "Bookmark this page\n",
        "Problem 1 - Is the Word Guessed\n",
        "0.0/10.0 points (graded)\n",
        "Please read the Hangman Introduction before starting this problem. We'll start by writing 3 simple functions that will help us easily code the Hangman problem. First, implement the function isWordGuessed that takes in two parameters - a string, secretWord, and a list of letters, lettersGuessed. This function returns a boolean - True if secretWord has been guessed (ie, all the letters of secretWord are in lettersGuessed) and False otherwise.\n",
        "\n",
        "Example Usage:\n",
        "\n",
        ">>> secretWord = 'apple' \n",
        ">>> lettersGuessed = ['e', 'i', 'k', 'p', 'r', 's']\n",
        ">>> print(isWordGuessed(secretWord, lettersGuessed))\n",
        "False\n",
        "For this function, you may assume that all the letters in secretWord and lettersGuessed are lowercase."
      ]
    },
    {
      "cell_type": "code",
      "execution_count": null,
      "metadata": {
        "collapsed": true,
        "id": "du9JjBU9pNIN"
      },
      "outputs": [],
      "source": [
        "secretWord = 'apple' \n",
        "lettersGuessed = ['e', 'i', 'k', 'p', 'r', 's']"
      ]
    },
    {
      "cell_type": "code",
      "execution_count": null,
      "metadata": {
        "collapsed": true,
        "id": "C70M2RNzpNIQ"
      },
      "outputs": [],
      "source": []
    }
  ],
  "metadata": {
    "anaconda-cloud": {},
    "kernelspec": {
      "display_name": "Python [default]",
      "language": "python",
      "name": "python2"
    },
    "language_info": {
      "codemirror_mode": {
        "name": "ipython",
        "version": 2
      },
      "file_extension": ".py",
      "mimetype": "text/x-python",
      "name": "python",
      "nbconvert_exporter": "python",
      "pygments_lexer": "ipython2",
      "version": "2.7.12"
    },
    "colab": {
      "provenance": []
    }
  },
  "nbformat": 4,
  "nbformat_minor": 0
}