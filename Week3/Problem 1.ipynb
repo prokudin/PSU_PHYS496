{
  "cells": [
    {
      "cell_type": "markdown",
      "metadata": {
        "id": "FopWpIH7pNII"
      },
      "source": [
        "Problem 1\n",
        "Bookmark this page\n",
        "Problem 1 - Is the Word Guessed\n",
        "0.0/10.0 points (graded)\n",
        "Please read the Hangman Introduction before starting this problem. We'll start by writing 3 simple functions that will help us easily code the Hangman problem. First, implement the function isWordGuessed that takes in two parameters - a string, secretWord, and a list of letters, lettersGuessed. This function returns a boolean - True if secretWord has been guessed (ie, all the letters of secretWord are in lettersGuessed) and False otherwise.\n",
        "\n",
        "Example Usage:\n",
        "\n",
        ">>> secretWord = 'apple' \n",
        ">>> lettersGuessed = ['e', 'i', 'k', 'p', 'r', 's']\n",
        ">>> print(isWordGuessed(secretWord, lettersGuessed))\n",
        "False\n",
        "For this function, you may assume that all the letters in secretWord and lettersGuessed are lowercase."
      ]
    },
    {
      "cell_type": "code",
      "execution_count": 1,
      "metadata": {
        "collapsed": true,
        "id": "du9JjBU9pNIN"
      },
      "outputs": [],
      "source": [
        "secretWord = 'apple' \n",
        "lettersGuessed = ['e', 'i', 'k', 'p', 'r', 's']"
      ]
    },
    {
      "cell_type": "code",
      "execution_count": 15,
      "metadata": {
        "collapsed": true,
        "id": "C70M2RNzpNIQ"
      },
      "outputs": [],
      "source": [
        "def isWordGuessed(secretWord, lettersGuessed):\n",
        "    '''\n",
        "    secretWord: string, the word the user is guessing\n",
        "    lettersGuessed: list, what letters have been guessed so far\n",
        "    returns: boolean, True if all the letters of secretWord are in lettersGuessed;\n",
        "      False otherwise\n",
        "    '''\n",
        "    #guessedWord = ''\n",
        "    #string_list = [guessedWord, secretWord]\n",
        "\n",
        "    for char in secretWord:\n",
        "      if char not in lettersGuessed:\n",
        "        return False\n",
        "\n",
        "    return True    \n",
        "    #for char in lettersGuessed:\n",
        "    #  if char in secretWord:\n",
        "    #    #guessedWord += char\n",
        "    #for i in string_list:\n",
        "    #  result = all(c == i[0] for c in i) #if guessedWord and secretWord contain the same characters \n",
        "    #  if result:\n",
        "    #      return True\n",
        "    #  else:\n",
        "    #      return False"
      ]
    },
    {
      "cell_type": "code",
      "source": [
        "isWordGuessed(secretWord, lettersGuessed)"
      ],
      "metadata": {
        "id": "1gcKnj3zkHrz",
        "outputId": "588cd71a-4d7e-41c9-95a3-bdcf19a78115",
        "colab": {
          "base_uri": "https://localhost:8080/"
        }
      },
      "execution_count": 16,
      "outputs": [
        {
          "output_type": "execute_result",
          "data": {
            "text/plain": [
              "False"
            ]
          },
          "metadata": {},
          "execution_count": 16
        }
      ]
    },
    {
      "cell_type": "code",
      "source": [
        "guessedWord = ''\n",
        "string_list = [guessedWord, secretWord]\n"
      ],
      "metadata": {
        "id": "P7Wt3qaLkKWl"
      },
      "execution_count": 5,
      "outputs": []
    },
    {
      "cell_type": "code",
      "source": [
        "for char in lettersGuessed:\n",
        "      if char in secretWord:\n",
        "        guessedWord += char"
      ],
      "metadata": {
        "id": "PWFSsNPokQEN"
      },
      "execution_count": 6,
      "outputs": []
    },
    {
      "cell_type": "code",
      "source": [
        "guessedWord"
      ],
      "metadata": {
        "id": "0DtT-naqkWJK",
        "outputId": "195cd5da-5ee6-488b-af6b-66f364a652bb",
        "colab": {
          "base_uri": "https://localhost:8080/",
          "height": 56
        }
      },
      "execution_count": 7,
      "outputs": [
        {
          "output_type": "execute_result",
          "data": {
            "text/plain": [
              "'ep'"
            ],
            "application/vnd.google.colaboratory.intrinsic+json": {
              "type": "string"
            }
          },
          "metadata": {},
          "execution_count": 7
        }
      ]
    },
    {
      "cell_type": "code",
      "source": [
        "string_list"
      ],
      "metadata": {
        "id": "Brg78IqzkYYY",
        "outputId": "93faa473-f4da-4650-e7c3-c9d7c86fa96b",
        "colab": {
          "base_uri": "https://localhost:8080/"
        }
      },
      "execution_count": 8,
      "outputs": [
        {
          "output_type": "execute_result",
          "data": {
            "text/plain": [
              "['', 'apple']"
            ]
          },
          "metadata": {},
          "execution_count": 8
        }
      ]
    },
    {
      "cell_type": "code",
      "source": [
        "for i in string_list:\n",
        "  print(i)"
      ],
      "metadata": {
        "id": "TfMigM8TkcQ_",
        "outputId": "648d7661-0626-4328-d8b8-02dabbbf7113",
        "colab": {
          "base_uri": "https://localhost:8080/"
        }
      },
      "execution_count": 9,
      "outputs": [
        {
          "output_type": "stream",
          "name": "stdout",
          "text": [
            "\n",
            "apple\n"
          ]
        }
      ]
    },
    {
      "cell_type": "code",
      "source": [
        "result = all(c == i[0] for c in i)"
      ],
      "metadata": {
        "id": "eoanQTkLkipf"
      },
      "execution_count": 10,
      "outputs": []
    },
    {
      "cell_type": "code",
      "source": [],
      "metadata": {
        "id": "aRFaFJcfmTDa"
      },
      "execution_count": null,
      "outputs": []
    },
    {
      "cell_type": "code",
      "source": [
        "result"
      ],
      "metadata": {
        "id": "qC6w2A0wktpH",
        "outputId": "00bd363d-cd38-4170-bed9-36274e6cbd90",
        "colab": {
          "base_uri": "https://localhost:8080/"
        }
      },
      "execution_count": 11,
      "outputs": [
        {
          "output_type": "execute_result",
          "data": {
            "text/plain": [
              "False"
            ]
          },
          "metadata": {},
          "execution_count": 11
        }
      ]
    },
    {
      "cell_type": "code",
      "source": [
        "for i in string_list:\n",
        "      result = all(c == i[0] for c in i) #if guessedWord and secretWord contain the same characters \n",
        "      #if result:\n",
        "      #    return True\n",
        "      #else:\n",
        "      #    return False"
      ],
      "metadata": {
        "id": "sMxN61Ekku6V"
      },
      "execution_count": 13,
      "outputs": []
    },
    {
      "cell_type": "code",
      "source": [
        "result"
      ],
      "metadata": {
        "id": "Aos_qGhYkyrY",
        "outputId": "90e05f44-92c9-4d04-8e24-54a8365c30b2",
        "colab": {
          "base_uri": "https://localhost:8080/"
        }
      },
      "execution_count": 14,
      "outputs": [
        {
          "output_type": "execute_result",
          "data": {
            "text/plain": [
              "False"
            ]
          },
          "metadata": {},
          "execution_count": 14
        }
      ]
    },
    {
      "cell_type": "code",
      "source": [
        "def getGuessedWord(secretWord, lettersGuessed):\n",
        "    '''\n",
        "    secretWord: string, the word the user is guessing\n",
        "    lettersGuessed: list, what letters have been guessed so far\n",
        "    returns: string, comprised of letters and underscores that represents\n",
        "      what letters in secretWord have been guessed so far.\n",
        "    '''\n",
        "    letters = [*secretWord] #split secret word into list of characters\n",
        "    for i,j in zip(letters, range(len(letters))): #iterates through each character in letters list\n",
        "      print(i,j)\n",
        "      if i in lettersGuessed: continue #if the character in letters is in lettersGuessed, move to the next character \n",
        "      letters[j] = '_ ' #if the character is not in lettersGuessed, add a space\n",
        "\n",
        "    string = ''\n",
        "    for i in letters:\n",
        "      string += i   #converts list to string\n",
        "    \n",
        "    return string\n",
        "    #return letters"
      ],
      "metadata": {
        "id": "aLbPYceJk4JU"
      },
      "execution_count": 39,
      "outputs": []
    },
    {
      "cell_type": "code",
      "source": [
        "getGuessedWord(secretWord, lettersGuessed)"
      ],
      "metadata": {
        "id": "8G7FVCtnmUJF",
        "outputId": "3d03eb4b-7a78-4b15-b165-55b68ec44883",
        "colab": {
          "base_uri": "https://localhost:8080/",
          "height": 144
        }
      },
      "execution_count": 40,
      "outputs": [
        {
          "output_type": "stream",
          "name": "stdout",
          "text": [
            "a 0\n",
            "p 1\n",
            "p 2\n",
            "l 3\n",
            "e 4\n"
          ]
        },
        {
          "output_type": "execute_result",
          "data": {
            "text/plain": [
              "'_ pp_ e'"
            ],
            "application/vnd.google.colaboratory.intrinsic+json": {
              "type": "string"
            }
          },
          "metadata": {},
          "execution_count": 40
        }
      ]
    },
    {
      "cell_type": "code",
      "source": [
        "letters = [*secretWord]"
      ],
      "metadata": {
        "id": "HuDZlb9dmZpc"
      },
      "execution_count": 19,
      "outputs": []
    },
    {
      "cell_type": "code",
      "source": [
        "zip(letters, range(len(letters)))"
      ],
      "metadata": {
        "id": "xp1pfui8mguh",
        "outputId": "57c85818-d1c5-4089-a40b-73dd52c98b10",
        "colab": {
          "base_uri": "https://localhost:8080/"
        }
      },
      "execution_count": 41,
      "outputs": [
        {
          "output_type": "execute_result",
          "data": {
            "text/plain": [
              "<zip at 0x7f10bf06ee80>"
            ]
          },
          "metadata": {},
          "execution_count": 41
        }
      ]
    },
    {
      "cell_type": "code",
      "source": [
        "secretWord.split('')"
      ],
      "metadata": {
        "id": "dftiWOalmhjy",
        "outputId": "ac0d47d6-e9c1-4832-dbe0-ab0381510154",
        "colab": {
          "base_uri": "https://localhost:8080/"
        }
      },
      "execution_count": 24,
      "outputs": [
        {
          "output_type": "execute_result",
          "data": {
            "text/plain": [
              "['apple']"
            ]
          },
          "metadata": {},
          "execution_count": 24
        }
      ]
    },
    {
      "cell_type": "code",
      "source": [
        "[*secretWord]"
      ],
      "metadata": {
        "id": "jzzPzWwfmlDg",
        "outputId": "a9abeb89-3bff-47cd-e4b2-bbe5052000ec",
        "colab": {
          "base_uri": "https://localhost:8080/"
        }
      },
      "execution_count": 26,
      "outputs": [
        {
          "output_type": "execute_result",
          "data": {
            "text/plain": [
              "['a', 'p', 'p', 'l', 'e']"
            ]
          },
          "metadata": {},
          "execution_count": 26
        }
      ]
    },
    {
      "cell_type": "code",
      "source": [
        "test = \"apple\""
      ],
      "metadata": {
        "id": "NQeKqUF6mvRI"
      },
      "execution_count": 42,
      "outputs": []
    },
    {
      "cell_type": "code",
      "source": [
        "test+\"yummy\""
      ],
      "metadata": {
        "id": "hXDdPPjypCzm",
        "outputId": "e7bf91d1-7721-43c8-99a3-c2f4f1e419e3",
        "colab": {
          "base_uri": "https://localhost:8080/",
          "height": 56
        }
      },
      "execution_count": 43,
      "outputs": [
        {
          "output_type": "execute_result",
          "data": {
            "text/plain": [
              "'appleyummy'"
            ],
            "application/vnd.google.colaboratory.intrinsic+json": {
              "type": "string"
            }
          },
          "metadata": {},
          "execution_count": 43
        }
      ]
    },
    {
      "cell_type": "code",
      "source": [
        "test + str(3)"
      ],
      "metadata": {
        "id": "Q_l_lGQ-pE2k",
        "outputId": "ce556adb-8fb9-422d-e7b2-fca7c05cc473",
        "colab": {
          "base_uri": "https://localhost:8080/",
          "height": 56
        }
      },
      "execution_count": 46,
      "outputs": [
        {
          "output_type": "execute_result",
          "data": {
            "text/plain": [
              "'apple3'"
            ],
            "application/vnd.google.colaboratory.intrinsic+json": {
              "type": "string"
            }
          },
          "metadata": {},
          "execution_count": 46
        }
      ]
    },
    {
      "cell_type": "code",
      "source": [
        "test = test + str(3)"
      ],
      "metadata": {
        "id": "JRt1zA_YpI9i"
      },
      "execution_count": 48,
      "outputs": []
    },
    {
      "cell_type": "code",
      "source": [
        "test"
      ],
      "metadata": {
        "id": "BCZRtSTtpY2T",
        "outputId": "08ba6eec-6e7c-4afd-b211-afa8a8c1748b",
        "colab": {
          "base_uri": "https://localhost:8080/",
          "height": 56
        }
      },
      "execution_count": 49,
      "outputs": [
        {
          "output_type": "execute_result",
          "data": {
            "text/plain": [
              "'apple3'"
            ],
            "application/vnd.google.colaboratory.intrinsic+json": {
              "type": "string"
            }
          },
          "metadata": {},
          "execution_count": 49
        }
      ]
    },
    {
      "cell_type": "code",
      "source": [
        "test[4]"
      ],
      "metadata": {
        "id": "c9eH3zHApcty",
        "outputId": "7baa85ae-1b4a-4a51-a87f-369b36ea33f4",
        "colab": {
          "base_uri": "https://localhost:8080/",
          "height": 56
        }
      },
      "execution_count": 50,
      "outputs": [
        {
          "output_type": "execute_result",
          "data": {
            "text/plain": [
              "'e'"
            ],
            "application/vnd.google.colaboratory.intrinsic+json": {
              "type": "string"
            }
          },
          "metadata": {},
          "execution_count": 50
        }
      ]
    },
    {
      "cell_type": "code",
      "source": [
        "test[4] = 'c'"
      ],
      "metadata": {
        "id": "h2TxiAaIpjZp",
        "outputId": "6aa92de4-7dc8-430c-98d4-6f0bcf7a68de",
        "colab": {
          "base_uri": "https://localhost:8080/",
          "height": 188
        }
      },
      "execution_count": 51,
      "outputs": [
        {
          "output_type": "error",
          "ename": "TypeError",
          "evalue": "ignored",
          "traceback": [
            "\u001b[0;31m---------------------------------------------------------------------------\u001b[0m",
            "\u001b[0;31mTypeError\u001b[0m                                 Traceback (most recent call last)",
            "\u001b[0;32m<ipython-input-51-eaa1d16d59ed>\u001b[0m in \u001b[0;36m<module>\u001b[0;34m\u001b[0m\n\u001b[0;32m----> 1\u001b[0;31m \u001b[0mtest\u001b[0m\u001b[0;34m[\u001b[0m\u001b[0;36m4\u001b[0m\u001b[0;34m]\u001b[0m \u001b[0;34m=\u001b[0m \u001b[0;34m'c'\u001b[0m\u001b[0;34m\u001b[0m\u001b[0;34m\u001b[0m\u001b[0m\n\u001b[0m",
            "\u001b[0;31mTypeError\u001b[0m: 'str' object does not support item assignment"
          ]
        }
      ]
    },
    {
      "cell_type": "code",
      "source": [
        "test1 = [*test]"
      ],
      "metadata": {
        "id": "lrb_GTsBpl5k"
      },
      "execution_count": 52,
      "outputs": []
    },
    {
      "cell_type": "code",
      "source": [
        "test1"
      ],
      "metadata": {
        "id": "L86cOrREps2K",
        "outputId": "693216a7-8039-43dc-f050-9dd79ca847b4",
        "colab": {
          "base_uri": "https://localhost:8080/"
        }
      },
      "execution_count": 53,
      "outputs": [
        {
          "output_type": "execute_result",
          "data": {
            "text/plain": [
              "['a', 'p', 'p', 'l', 'e', '3']"
            ]
          },
          "metadata": {},
          "execution_count": 53
        }
      ]
    },
    {
      "cell_type": "code",
      "source": [
        "test1[4]"
      ],
      "metadata": {
        "id": "wKvq0E_dpuDz",
        "outputId": "a22f4abc-bb7e-4cfd-9db9-eafa0cb13890",
        "colab": {
          "base_uri": "https://localhost:8080/",
          "height": 56
        }
      },
      "execution_count": 54,
      "outputs": [
        {
          "output_type": "execute_result",
          "data": {
            "text/plain": [
              "'e'"
            ],
            "application/vnd.google.colaboratory.intrinsic+json": {
              "type": "string"
            }
          },
          "metadata": {},
          "execution_count": 54
        }
      ]
    },
    {
      "cell_type": "code",
      "source": [
        "test1[4] = '_'"
      ],
      "metadata": {
        "id": "VW91Rbgypvhj"
      },
      "execution_count": 55,
      "outputs": []
    },
    {
      "cell_type": "code",
      "source": [
        "test1"
      ],
      "metadata": {
        "id": "3I3whY6hpx01",
        "outputId": "86a93490-bab4-4fcd-fd28-9d04fbd1427f",
        "colab": {
          "base_uri": "https://localhost:8080/"
        }
      },
      "execution_count": 56,
      "outputs": [
        {
          "output_type": "execute_result",
          "data": {
            "text/plain": [
              "['a', 'p', 'p', 'l', '_', '3']"
            ]
          },
          "metadata": {},
          "execution_count": 56
        }
      ]
    },
    {
      "cell_type": "code",
      "source": [],
      "metadata": {
        "id": "JE3vvJXIpyvT"
      },
      "execution_count": null,
      "outputs": []
    }
  ],
  "metadata": {
    "anaconda-cloud": {},
    "kernelspec": {
      "display_name": "Python [default]",
      "language": "python",
      "name": "python2"
    },
    "language_info": {
      "codemirror_mode": {
        "name": "ipython",
        "version": 2
      },
      "file_extension": ".py",
      "mimetype": "text/x-python",
      "name": "python",
      "nbconvert_exporter": "python",
      "pygments_lexer": "ipython2",
      "version": "2.7.12"
    },
    "colab": {
      "provenance": []
    }
  },
  "nbformat": 4,
  "nbformat_minor": 0
}