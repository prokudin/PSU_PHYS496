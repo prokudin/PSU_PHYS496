{
  "cells": [
    {
      "cell_type": "markdown",
      "metadata": {
        "id": "He_PyTBlp_3B"
      },
      "source": [
        "Problem 3 - Printing Out all Available Letters\n",
        "0.0/10.0 points (graded)\n",
        "Next, implement the function getAvailableLetters that takes in one parameter - a list of letters, lettersGuessed. This function returns a string that is comprised of lowercase English letters - all lowercase English letters that are not in lettersGuessed.\n",
        "\n",
        "Example Usage:\n",
        "\n",
        ">>> lettersGuessed = ['e', 'i', 'k', 'p', 'r', 's']\n",
        ">>> print(getAvailableLetters(lettersGuessed))\n",
        "abcdfghjlmnoqtuvwxyz\n",
        "Note that this function should return the letters in alphabetical order, as in the example above.\n",
        "\n",
        "For this function, you may assume that all the letters in lettersGuessed are lowercase.\n",
        "\n",
        "Hint: You might consider using string.ascii_lowercase, which is a string comprised of all lowercase letters:\n",
        "\n",
        ">>> import string\n",
        ">>> print(string.ascii_lowercase)\n",
        "abcdefghijklmnopqrstuvwxyz"
      ]
    },
    {
      "cell_type": "code",
      "execution_count": null,
      "metadata": {
        "id": "Zt_d27rJp_3J"
      },
      "outputs": [],
      "source": []
    }
  ],
  "metadata": {
    "anaconda-cloud": {},
    "kernelspec": {
      "display_name": "Python 2",
      "language": "python",
      "name": "python2"
    },
    "language_info": {
      "codemirror_mode": {
        "name": "ipython",
        "version": 2
      },
      "file_extension": ".py",
      "mimetype": "text/x-python",
      "name": "python",
      "nbconvert_exporter": "python",
      "pygments_lexer": "ipython2",
      "version": "2.7.15"
    },
    "colab": {
      "provenance": []
    }
  },
  "nbformat": 4,
  "nbformat_minor": 0
}