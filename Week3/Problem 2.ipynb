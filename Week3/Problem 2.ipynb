{
  "cells": [
    {
      "cell_type": "markdown",
      "metadata": {
        "id": "UI6IB_qHqlE9"
      },
      "source": [
        "Problem 2\n",
        "Bookmark this page\n",
        "Problem 2 - Printing Out the User's Guess\n",
        "0.0/10.0 points (graded)\n",
        "Next, implement the function getGuessedWord that takes in two parameters - a string, secretWord, and a list of letters, lettersGuessed. This function returns a string that is comprised of letters and underscores, based on what letters in lettersGuessed are in secretWord. This shouldn't be too different from isWordGuessed!\n",
        "\n",
        "Example Usage:\n",
        "\n",
        ">>> secretWord = 'apple' \n",
        ">>> lettersGuessed = ['e', 'i', 'k', 'p', 'r', 's']\n",
        ">>> print(getGuessedWord(secretWord, lettersGuessed))\n",
        "'_ pp_ e'\n",
        "When inserting underscores into your string, it's a good idea to add at least a space after each one, so it's clear to the user how many unguessed letters are left in the string (compare the readability of ____ with _ _ _ _ ). This is called usability - it's very important, when programming, to consider the usability of your program. If users find your program difficult to understand or operate, they won't use it!\n",
        "\n",
        "For this problem, you are free to use spacing in any way you wish - our grader will only check that the letters and underscores are in the proper order; it will not look at spacing. We do encourage you to think about usability when designing.\n",
        "\n",
        "For this function, you may assume that all the letters in secretWord and lettersGuessed are lowercase."
      ]
    },
    {
      "cell_type": "code",
      "execution_count": null,
      "metadata": {
        "id": "hfy5KyxXqlFK"
      },
      "outputs": [],
      "source": []
    }
  ],
  "metadata": {
    "anaconda-cloud": {},
    "kernelspec": {
      "display_name": "Python 2",
      "language": "python",
      "name": "python2"
    },
    "language_info": {
      "codemirror_mode": {
        "name": "ipython",
        "version": 2
      },
      "file_extension": ".py",
      "mimetype": "text/x-python",
      "name": "python",
      "nbconvert_exporter": "python",
      "pygments_lexer": "ipython2",
      "version": "2.7.15"
    },
    "colab": {
      "provenance": []
    }
  },
  "nbformat": 4,
  "nbformat_minor": 0
}